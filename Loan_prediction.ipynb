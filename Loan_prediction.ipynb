{
  "nbformat": 4,
  "nbformat_minor": 0,
  "metadata": {
    "colab": {
      "name": "Loan prediction.ipynb",
      "provenance": [],
      "collapsed_sections": [],
      "authorship_tag": "ABX9TyN3Bnm2d6IgBIFnlplPjNtz",
      "include_colab_link": true
    },
    "kernelspec": {
      "name": "python3",
      "display_name": "Python 3"
    }
  },
  "cells": [
    {
      "cell_type": "markdown",
      "metadata": {
        "id": "view-in-github",
        "colab_type": "text"
      },
      "source": [
        "<a href=\"https://colab.research.google.com/github/mamun216/ML_Models/blob/master/Loan_prediction.ipynb\" target=\"_parent\"><img src=\"https://colab.research.google.com/assets/colab-badge.svg\" alt=\"Open In Colab\"/></a>"
      ]
    },
    {
      "cell_type": "markdown",
      "metadata": {
        "id": "rZeAxwafV8id"
      },
      "source": [
        "# Problem Statement\n",
        "The director of SZE bank identified that going through the loan applications to filter the people who can be granted loans or need to be rejected is a tedious and time-consuming process. He wants to automate it and increase his bank’s efficiency. After talking around a bit, your name pops up as one of the few data scientists who can make this possible within a limited time. Will you help the director out? "
      ]
    },
    {
      "cell_type": "markdown",
      "metadata": {
        "id": "asg7IAvlWBPY"
      },
      "source": [
        "# Objective\n",
        "The idea behind this ML project is to build an ML model and web application that the bank can use to classify if a user can be granted a loan or not."
      ]
    },
    {
      "cell_type": "markdown",
      "metadata": {
        "id": "g6fUH8ogWOQ4"
      },
      "source": [
        "# About the Data\n",
        "The dataset contains information about Loan Applicants. There are 12 independent columns and 1 dependent column. This dataset includes attributes like Loan ID, gender, if the loan applicant is married or not, the level of education, applicant’s income etc. "
      ]
    },
    {
      "cell_type": "markdown",
      "metadata": {
        "id": "ZbmMiwcJWQoY"
      },
      "source": [
        "# Data Description\n",
        "1. Loan_ID: A unique ID assigned to every loan applicant\n",
        "2. Gender: Gender of the applicant (Male, Female)\n",
        "3. Married: The marital status of the applicant (Yes, No)\n",
        "4. Dependents: No. of people dependent on the applicant (0,1,2,3+)\n",
        "5. Education: Education level of the applicant (Graduated, Not Graduated)\n",
        "6. Self_Employed: If the applicant is self-employed or not (Yes, No)\n",
        "7. ApplicantIncome: The amount of income the applicant earns\n",
        "8. CoapplicantIncome: The amount of income the co-applicant earns\n",
        "9. LoanAmount: The amount of loan the applicant has requested for\n",
        "10. Loan_Amount_Term: The  no. of days over which the loan will be paid\n",
        "11. Credit_History: A record of a borrower's responsible repayment of debts (1- has all debts paid, 0- not paid)\n",
        "12. Property_Area : The type of location where the applicant’s property lies (Rural, Semiurban, Urban)\n",
        "13. Loan_Status: Loan granted or not (Y, N)"
      ]
    },
    {
      "cell_type": "markdown",
      "metadata": {
        "id": "ElSYT7eOVXZb"
      },
      "source": [
        "# Import important libraries for loading, reading and data analysis"
      ]
    },
    {
      "cell_type": "code",
      "metadata": {
        "id": "M3xyp-cbVH2G"
      },
      "source": [
        "import numpy as np\n",
        "import pandas as pd\n",
        "from statistics import mean \n",
        "\n",
        "import seaborn as sns\n",
        "import matplotlib.pyplot as plt\n",
        "\n",
        "from xgboost import XGBClassifier\n",
        "from sklearn.pipeline import Pipeline\n",
        "from sklearn.datasets import make_classification\n",
        "from sklearn.preprocessing import StandardScaler\n",
        "from sklearn.metrics import classification_report, confusion_matrix, accuracy_score, f1_score, r2_score, mean_squared_error\n",
        "from sklearn.model_selection import train_test_split, cross_val_score, RandomizedSearchCV, GridSearchCV\n",
        "import warnings\n",
        "warnings.filterwarnings(\"ignore\")"
      ],
      "execution_count": 193,
      "outputs": []
    },
    {
      "cell_type": "code",
      "metadata": {
        "id": "UHvkKyiaVWXI"
      },
      "source": [
        "loan_data  = pd.read_csv(\"https://raw.githubusercontent.com/dphi-official/Datasets/master/Loan_Data/loan_train.csv\" )"
      ],
      "execution_count": 194,
      "outputs": []
    },
    {
      "cell_type": "code",
      "metadata": {
        "colab": {
          "base_uri": "https://localhost:8080/",
          "height": 266
        },
        "id": "6X3PNkiBWzsp",
        "outputId": "4885893a-eb8b-42b1-ab1e-44343008d453"
      },
      "source": [
        "loan_data.head()"
      ],
      "execution_count": 195,
      "outputs": [
        {
          "output_type": "execute_result",
          "data": {
            "text/html": [
              "<div>\n",
              "<style scoped>\n",
              "    .dataframe tbody tr th:only-of-type {\n",
              "        vertical-align: middle;\n",
              "    }\n",
              "\n",
              "    .dataframe tbody tr th {\n",
              "        vertical-align: top;\n",
              "    }\n",
              "\n",
              "    .dataframe thead th {\n",
              "        text-align: right;\n",
              "    }\n",
              "</style>\n",
              "<table border=\"1\" class=\"dataframe\">\n",
              "  <thead>\n",
              "    <tr style=\"text-align: right;\">\n",
              "      <th></th>\n",
              "      <th>Unnamed: 0</th>\n",
              "      <th>Loan_ID</th>\n",
              "      <th>Gender</th>\n",
              "      <th>Married</th>\n",
              "      <th>Dependents</th>\n",
              "      <th>Education</th>\n",
              "      <th>Self_Employed</th>\n",
              "      <th>ApplicantIncome</th>\n",
              "      <th>CoapplicantIncome</th>\n",
              "      <th>LoanAmount</th>\n",
              "      <th>Loan_Amount_Term</th>\n",
              "      <th>Credit_History</th>\n",
              "      <th>Property_Area</th>\n",
              "      <th>Loan_Status</th>\n",
              "    </tr>\n",
              "  </thead>\n",
              "  <tbody>\n",
              "    <tr>\n",
              "      <th>0</th>\n",
              "      <td>0</td>\n",
              "      <td>LP002305</td>\n",
              "      <td>Female</td>\n",
              "      <td>No</td>\n",
              "      <td>0</td>\n",
              "      <td>Graduate</td>\n",
              "      <td>No</td>\n",
              "      <td>4547</td>\n",
              "      <td>0.0</td>\n",
              "      <td>115.0</td>\n",
              "      <td>360.0</td>\n",
              "      <td>1.0</td>\n",
              "      <td>Semiurban</td>\n",
              "      <td>1</td>\n",
              "    </tr>\n",
              "    <tr>\n",
              "      <th>1</th>\n",
              "      <td>1</td>\n",
              "      <td>LP001715</td>\n",
              "      <td>Male</td>\n",
              "      <td>Yes</td>\n",
              "      <td>3+</td>\n",
              "      <td>Not Graduate</td>\n",
              "      <td>Yes</td>\n",
              "      <td>5703</td>\n",
              "      <td>0.0</td>\n",
              "      <td>130.0</td>\n",
              "      <td>360.0</td>\n",
              "      <td>1.0</td>\n",
              "      <td>Rural</td>\n",
              "      <td>1</td>\n",
              "    </tr>\n",
              "    <tr>\n",
              "      <th>2</th>\n",
              "      <td>2</td>\n",
              "      <td>LP002086</td>\n",
              "      <td>Female</td>\n",
              "      <td>Yes</td>\n",
              "      <td>0</td>\n",
              "      <td>Graduate</td>\n",
              "      <td>No</td>\n",
              "      <td>4333</td>\n",
              "      <td>2451.0</td>\n",
              "      <td>110.0</td>\n",
              "      <td>360.0</td>\n",
              "      <td>1.0</td>\n",
              "      <td>Urban</td>\n",
              "      <td>0</td>\n",
              "    </tr>\n",
              "    <tr>\n",
              "      <th>3</th>\n",
              "      <td>3</td>\n",
              "      <td>LP001136</td>\n",
              "      <td>Male</td>\n",
              "      <td>Yes</td>\n",
              "      <td>0</td>\n",
              "      <td>Not Graduate</td>\n",
              "      <td>Yes</td>\n",
              "      <td>4695</td>\n",
              "      <td>0.0</td>\n",
              "      <td>96.0</td>\n",
              "      <td>NaN</td>\n",
              "      <td>1.0</td>\n",
              "      <td>Urban</td>\n",
              "      <td>1</td>\n",
              "    </tr>\n",
              "    <tr>\n",
              "      <th>4</th>\n",
              "      <td>4</td>\n",
              "      <td>LP002529</td>\n",
              "      <td>Male</td>\n",
              "      <td>Yes</td>\n",
              "      <td>2</td>\n",
              "      <td>Graduate</td>\n",
              "      <td>No</td>\n",
              "      <td>6700</td>\n",
              "      <td>1750.0</td>\n",
              "      <td>230.0</td>\n",
              "      <td>300.0</td>\n",
              "      <td>1.0</td>\n",
              "      <td>Semiurban</td>\n",
              "      <td>1</td>\n",
              "    </tr>\n",
              "  </tbody>\n",
              "</table>\n",
              "</div>"
            ],
            "text/plain": [
              "   Unnamed: 0   Loan_ID  Gender  ... Credit_History Property_Area Loan_Status\n",
              "0           0  LP002305  Female  ...            1.0     Semiurban           1\n",
              "1           1  LP001715    Male  ...            1.0         Rural           1\n",
              "2           2  LP002086  Female  ...            1.0         Urban           0\n",
              "3           3  LP001136    Male  ...            1.0         Urban           1\n",
              "4           4  LP002529    Male  ...            1.0     Semiurban           1\n",
              "\n",
              "[5 rows x 14 columns]"
            ]
          },
          "metadata": {
            "tags": []
          },
          "execution_count": 195
        }
      ]
    },
    {
      "cell_type": "code",
      "metadata": {
        "colab": {
          "base_uri": "https://localhost:8080/"
        },
        "id": "Wq6TC--0W4dB",
        "outputId": "60e68346-d3f6-414a-fe64-2ac850ba332b"
      },
      "source": [
        "loan_data.info()"
      ],
      "execution_count": 196,
      "outputs": [
        {
          "output_type": "stream",
          "text": [
            "<class 'pandas.core.frame.DataFrame'>\n",
            "RangeIndex: 491 entries, 0 to 490\n",
            "Data columns (total 14 columns):\n",
            " #   Column             Non-Null Count  Dtype  \n",
            "---  ------             --------------  -----  \n",
            " 0   Unnamed: 0         491 non-null    int64  \n",
            " 1   Loan_ID            491 non-null    object \n",
            " 2   Gender             481 non-null    object \n",
            " 3   Married            490 non-null    object \n",
            " 4   Dependents         482 non-null    object \n",
            " 5   Education          491 non-null    object \n",
            " 6   Self_Employed      462 non-null    object \n",
            " 7   ApplicantIncome    491 non-null    int64  \n",
            " 8   CoapplicantIncome  491 non-null    float64\n",
            " 9   LoanAmount         475 non-null    float64\n",
            " 10  Loan_Amount_Term   478 non-null    float64\n",
            " 11  Credit_History     448 non-null    float64\n",
            " 12  Property_Area      491 non-null    object \n",
            " 13  Loan_Status        491 non-null    int64  \n",
            "dtypes: float64(4), int64(3), object(7)\n",
            "memory usage: 53.8+ KB\n"
          ],
          "name": "stdout"
        }
      ]
    },
    {
      "cell_type": "markdown",
      "metadata": {
        "id": "cxthz8iFaiZQ"
      },
      "source": [
        "## Observation: \r\n",
        "The above data info informes about number of observations 491, columns 14, most of the columns have null values, categorical column, numerical column, and data type  3 integer, 4 float and 7 object. \r\n"
      ]
    },
    {
      "cell_type": "code",
      "metadata": {
        "colab": {
          "base_uri": "https://localhost:8080/"
        },
        "id": "H8W37nXwXTAE",
        "outputId": "4a27b91e-e290-4377-e832-0d65c6b925e3"
      },
      "source": [
        "loan_data.shape"
      ],
      "execution_count": 197,
      "outputs": [
        {
          "output_type": "execute_result",
          "data": {
            "text/plain": [
              "(491, 14)"
            ]
          },
          "metadata": {
            "tags": []
          },
          "execution_count": 197
        }
      ]
    },
    {
      "cell_type": "markdown",
      "metadata": {
        "id": "akH7PoNGbR-z"
      },
      "source": [
        "# Drop irrelevant columns\r\n",
        "\r\n",
        "Here we have found Unnamed:0 column and loan_id columns are not useful for this data analysis, so we removed from the datset."
      ]
    },
    {
      "cell_type": "code",
      "metadata": {
        "id": "4KzdEo8gXZEi"
      },
      "source": [
        "loan_data.drop(columns=['Unnamed: 0', 'Loan_ID'], inplace = True)"
      ],
      "execution_count": 198,
      "outputs": []
    },
    {
      "cell_type": "markdown",
      "metadata": {
        "id": "NyWYhv88bqn7"
      },
      "source": [
        "## Check the columns in dataset"
      ]
    },
    {
      "cell_type": "code",
      "metadata": {
        "colab": {
          "base_uri": "https://localhost:8080/"
        },
        "id": "Fv4xPD59Og8p",
        "outputId": "b173b6e2-f919-47dd-a2d4-ca2f9d9fabc9"
      },
      "source": [
        "loan_data.columns"
      ],
      "execution_count": 199,
      "outputs": [
        {
          "output_type": "execute_result",
          "data": {
            "text/plain": [
              "Index(['Gender', 'Married', 'Dependents', 'Education', 'Self_Employed',\n",
              "       'ApplicantIncome', 'CoapplicantIncome', 'LoanAmount',\n",
              "       'Loan_Amount_Term', 'Credit_History', 'Property_Area', 'Loan_Status'],\n",
              "      dtype='object')"
            ]
          },
          "metadata": {
            "tags": []
          },
          "execution_count": 199
        }
      ]
    },
    {
      "cell_type": "markdown",
      "metadata": {
        "id": "quOZ8DuebwuX"
      },
      "source": [
        "# Rename columns \r\n",
        "### where missing space and convert all capital letter to small letter to make easy to write code"
      ]
    },
    {
      "cell_type": "code",
      "metadata": {
        "id": "cpCiok5sSmrh"
      },
      "source": [
        "loan_data = loan_data.rename(columns={'ApplicantIncome': 'applicant_income', 'CoapplicantIncome': 'co_applicant_income', 'LoanAmount': 'loan_amount'})\r\n",
        "loan_data.rename(columns = str.lower, inplace = True)"
      ],
      "execution_count": 200,
      "outputs": []
    },
    {
      "cell_type": "code",
      "metadata": {
        "colab": {
          "base_uri": "https://localhost:8080/",
          "height": 106
        },
        "id": "EY3jZXMLYMy5",
        "outputId": "9d3f8cbf-4b27-4af6-cf90-2b7a89eac955"
      },
      "source": [
        "loan_data.head(2)"
      ],
      "execution_count": 201,
      "outputs": [
        {
          "output_type": "execute_result",
          "data": {
            "text/html": [
              "<div>\n",
              "<style scoped>\n",
              "    .dataframe tbody tr th:only-of-type {\n",
              "        vertical-align: middle;\n",
              "    }\n",
              "\n",
              "    .dataframe tbody tr th {\n",
              "        vertical-align: top;\n",
              "    }\n",
              "\n",
              "    .dataframe thead th {\n",
              "        text-align: right;\n",
              "    }\n",
              "</style>\n",
              "<table border=\"1\" class=\"dataframe\">\n",
              "  <thead>\n",
              "    <tr style=\"text-align: right;\">\n",
              "      <th></th>\n",
              "      <th>gender</th>\n",
              "      <th>married</th>\n",
              "      <th>dependents</th>\n",
              "      <th>education</th>\n",
              "      <th>self_employed</th>\n",
              "      <th>applicant_income</th>\n",
              "      <th>co_applicant_income</th>\n",
              "      <th>loan_amount</th>\n",
              "      <th>loan_amount_term</th>\n",
              "      <th>credit_history</th>\n",
              "      <th>property_area</th>\n",
              "      <th>loan_status</th>\n",
              "    </tr>\n",
              "  </thead>\n",
              "  <tbody>\n",
              "    <tr>\n",
              "      <th>0</th>\n",
              "      <td>Female</td>\n",
              "      <td>No</td>\n",
              "      <td>0</td>\n",
              "      <td>Graduate</td>\n",
              "      <td>No</td>\n",
              "      <td>4547</td>\n",
              "      <td>0.0</td>\n",
              "      <td>115.0</td>\n",
              "      <td>360.0</td>\n",
              "      <td>1.0</td>\n",
              "      <td>Semiurban</td>\n",
              "      <td>1</td>\n",
              "    </tr>\n",
              "    <tr>\n",
              "      <th>1</th>\n",
              "      <td>Male</td>\n",
              "      <td>Yes</td>\n",
              "      <td>3+</td>\n",
              "      <td>Not Graduate</td>\n",
              "      <td>Yes</td>\n",
              "      <td>5703</td>\n",
              "      <td>0.0</td>\n",
              "      <td>130.0</td>\n",
              "      <td>360.0</td>\n",
              "      <td>1.0</td>\n",
              "      <td>Rural</td>\n",
              "      <td>1</td>\n",
              "    </tr>\n",
              "  </tbody>\n",
              "</table>\n",
              "</div>"
            ],
            "text/plain": [
              "   gender married dependents  ... credit_history property_area  loan_status\n",
              "0  Female      No          0  ...            1.0     Semiurban            1\n",
              "1    Male     Yes         3+  ...            1.0         Rural            1\n",
              "\n",
              "[2 rows x 12 columns]"
            ]
          },
          "metadata": {
            "tags": []
          },
          "execution_count": 201
        }
      ]
    },
    {
      "cell_type": "markdown",
      "metadata": {
        "id": "4q1A0Gx3cNqM"
      },
      "source": [
        "# Finding missing values and measures"
      ]
    },
    {
      "cell_type": "code",
      "metadata": {
        "colab": {
          "base_uri": "https://localhost:8080/"
        },
        "id": "eInfClq4Oj4p",
        "outputId": "f460cad0-cc84-461e-82d1-c4895c9cbb08"
      },
      "source": [
        "loan_data.isnull().sum()"
      ],
      "execution_count": 202,
      "outputs": [
        {
          "output_type": "execute_result",
          "data": {
            "text/plain": [
              "gender                 10\n",
              "married                 1\n",
              "dependents              9\n",
              "education               0\n",
              "self_employed          29\n",
              "applicant_income        0\n",
              "co_applicant_income     0\n",
              "loan_amount            16\n",
              "loan_amount_term       13\n",
              "credit_history         43\n",
              "property_area           0\n",
              "loan_status             0\n",
              "dtype: int64"
            ]
          },
          "metadata": {
            "tags": []
          },
          "execution_count": 202
        }
      ]
    },
    {
      "cell_type": "code",
      "metadata": {
        "id": "7xnBgJqtOsGM"
      },
      "source": [
        "loan_data['gender'].fillna('No Gender', inplace = True)\r\n",
        "loan_data['married'].fillna(0, inplace = True)\r\n",
        "loan_data['dependents'].fillna(0, inplace = True)\r\n",
        "loan_data['self_employed'].fillna(method = 'bfill', inplace = True)\r\n",
        "loan_data['loan_amount'].fillna(loan_data['loan_amount'].mean(), inplace = True)\r\n",
        "loan_data['loan_amount_term'].fillna(method ='ffill', inplace = True)\r\n",
        "loan_data['credit_history'].fillna(method = 'ffill', inplace = True)"
      ],
      "execution_count": 203,
      "outputs": []
    },
    {
      "cell_type": "markdown",
      "metadata": {
        "id": "UVwQ5shQcUNi"
      },
      "source": [
        "Though gender, married, dependents column has few missing values, so I filled with that rows with 0 value and rest of categorical columns fill with forward and backward fill method and numerical column fill with mean."
      ]
    },
    {
      "cell_type": "code",
      "metadata": {
        "colab": {
          "base_uri": "https://localhost:8080/"
        },
        "id": "prET218rQ-99",
        "outputId": "1090a356-ec2d-402f-b11e-a4f2f15ab1cd"
      },
      "source": [
        "loan_data.isnull().sum()"
      ],
      "execution_count": 204,
      "outputs": [
        {
          "output_type": "execute_result",
          "data": {
            "text/plain": [
              "gender                 0\n",
              "married                0\n",
              "dependents             0\n",
              "education              0\n",
              "self_employed          0\n",
              "applicant_income       0\n",
              "co_applicant_income    0\n",
              "loan_amount            0\n",
              "loan_amount_term       0\n",
              "credit_history         0\n",
              "property_area          0\n",
              "loan_status            0\n",
              "dtype: int64"
            ]
          },
          "metadata": {
            "tags": []
          },
          "execution_count": 204
        }
      ]
    },
    {
      "cell_type": "markdown",
      "metadata": {
        "id": "1TtDniD_d7a-"
      },
      "source": [
        "https://www.kaggle.com/ajaymanwani/loan-approval-prediction\r\n"
      ]
    },
    {
      "cell_type": "code",
      "metadata": {
        "colab": {
          "base_uri": "https://localhost:8080/"
        },
        "id": "m3j6TblnemNQ",
        "outputId": "b46584b6-e7d0-42a8-bb51-fa79d404ddf4"
      },
      "source": [
        "loan_data.columns"
      ],
      "execution_count": 205,
      "outputs": [
        {
          "output_type": "execute_result",
          "data": {
            "text/plain": [
              "Index(['gender', 'married', 'dependents', 'education', 'self_employed',\n",
              "       'applicant_income', 'co_applicant_income', 'loan_amount',\n",
              "       'loan_amount_term', 'credit_history', 'property_area', 'loan_status'],\n",
              "      dtype='object')"
            ]
          },
          "metadata": {
            "tags": []
          },
          "execution_count": 205
        }
      ]
    },
    {
      "cell_type": "code",
      "metadata": {
        "id": "-16yRjqJRS-H"
      },
      "source": [
        "categorical_columns = ['gender', 'married', 'dependents', 'education', 'self_employed',\r\n",
        "                       'loan_amount_term', 'credit_history', 'property_area']\r\n",
        "numerical_columns = ['applicant_income', 'co_applicant_income', 'loan_amount']"
      ],
      "execution_count": 206,
      "outputs": []
    },
    {
      "cell_type": "code",
      "metadata": {
        "colab": {
          "base_uri": "https://localhost:8080/",
          "height": 878
        },
        "id": "_pzTXGufYsyg",
        "outputId": "96beae61-f027-4a3a-ffa2-ed136d5b17fa"
      },
      "source": [
        "fig,axes = plt.subplots(4,2,figsize=(12,15))\r\n",
        "for idx,cat_col in enumerate(categorical_columns):\r\n",
        "    row,col = idx//2,idx%2\r\n",
        "    sns.countplot(x=cat_col,data=loan_data, hue='loan_status',ax=axes[row,col])\r\n",
        "\r\n",
        "plt.subplots_adjust(hspace=1)"
      ],
      "execution_count": 207,
      "outputs": [
        {
          "output_type": "display_data",
          "data": {
            "image/png": "[encoded data removed]",
            "text/plain": [
              "<Figure size 864x1080 with 8 Axes>"
            ]
          },
          "metadata": {
            "tags": [],
            "needs_background": "light"
          }
        }
      ]
    },
    {
      "cell_type": "markdown",
      "metadata": {
        "id": "pqbkhRiYhLcV"
      },
      "source": [
        "Plots above convey following things about the dataset:\r\n",
        "\r\n",
        "Loan Approval Status: About 2/3rd of applicants have been granted loan.\r\n",
        "\r\n",
        "1. Gender: There are more Men than Women (approx. 3x)\r\n",
        "2. Martial Status: 2/3rd of the population in the dataset is Marred; Married applicants are more likely to be granted loans.\r\n",
        "3. Dependents: Majority of the population have zero dependents and are also likely to accepted for loan.\r\n",
        "4. Education: About 5/6th of the population is Graduate and graduates have higher propotion of loan approval\r\n",
        "5. Employment: 5/6th of population is not self employed. They have more chance to get loan.\r\n",
        "6. Property Area: More applicants from Semi-urban and also likely to be granted loans.\r\n",
        "7. Applicant with credit history are far more likely to be accepted.\r\n",
        "8. Loan Amount Term: Majority of the loans taken are for 360 Months (30 years).\r\n",
        "\r\n",
        "\r\n",
        "### Now, let's also analyze Numerical Columns:"
      ]
    },
    {
      "cell_type": "code",
      "metadata": {
        "colab": {
          "base_uri": "https://localhost:8080/",
          "height": 335
        },
        "id": "Ex2LwYPDZCkN",
        "outputId": "8208ae08-bfc2-45f8-e9c2-f2f9497406e6"
      },
      "source": [
        "fig,axes = plt.subplots(1,3,figsize=(17,5))\r\n",
        "for idx,cat_col in enumerate(numerical_columns):\r\n",
        "    sns.boxplot(y=cat_col,data=loan_data,x='loan_status',ax=axes[idx])\r\n",
        "plt.subplots_adjust(hspace=1)"
      ],
      "execution_count": 208,
      "outputs": [
        {
          "output_type": "display_data",
          "data": {
            "image/png": "[encoded data removed]",
            "text/plain": [
              "<Figure size 1224x360 with 3 Axes>"
            ]
          },
          "metadata": {
            "tags": [],
            "needs_background": "light"
          }
        }
      ]
    },
    {
      "cell_type": "markdown",
      "metadata": {
        "id": "6HH3IaxUjZYB"
      },
      "source": [
        "For Numercical Columns, there is no significant relation to Loan approval status. we can see some outlier present there."
      ]
    },
    {
      "cell_type": "code",
      "metadata": {
        "colab": {
          "base_uri": "https://localhost:8080/"
        },
        "id": "yHGF-9RxZQvS",
        "outputId": "43fc6a2c-5609-4240-f229-96c6a284054c"
      },
      "source": [
        "print(loan_data[numerical_columns].describe())"
      ],
      "execution_count": 209,
      "outputs": [
        {
          "output_type": "stream",
          "text": [
            "       applicant_income  co_applicant_income  loan_amount\n",
            "count        491.000000           491.000000   491.000000\n",
            "mean        5401.189409          1589.730998   145.014737\n",
            "std         6419.427177          2919.320624    84.889687\n",
            "min          150.000000             0.000000    17.000000\n",
            "25%         2923.500000             0.000000   100.000000\n",
            "50%         3865.000000          1229.000000   128.000000\n",
            "75%         5705.500000          2251.500000   160.000000\n",
            "max        81000.000000         41667.000000   700.000000\n"
          ],
          "name": "stdout"
        }
      ]
    },
    {
      "cell_type": "code",
      "metadata": {
        "colab": {
          "base_uri": "https://localhost:8080/"
        },
        "id": "n1m087v1jK4R",
        "outputId": "be434fa5-556b-40d5-e869-acc83211c15a"
      },
      "source": [
        "from scipy import stats\r\n",
        "loan_data_outlier= loan_data[numerical_columns].copy()\r\n",
        "z = np.abs(stats.zscore(loan_data_outlier))\r\n",
        "print(z)"
      ],
      "execution_count": 210,
      "outputs": [
        {
          "output_type": "stream",
          "text": [
            "[[ 0.13319889  0.54511051  0.35393402]\n",
            " [ 0.04706314  0.54511051  0.1770539 ]\n",
            " [ 0.1665692   0.29532467  0.41289406]\n",
            " ...\n",
            " [ 1.43177495  0.54511051  0.47150655]\n",
            " [ 0.55594143 11.05742115  0.64873423]\n",
            " [ 0.40795815  0.14616543  0.41289406]]\n"
          ],
          "name": "stdout"
        }
      ]
    },
    {
      "cell_type": "code",
      "metadata": {
        "colab": {
          "base_uri": "https://localhost:8080/"
        },
        "id": "C-Z-gRfcl6kN",
        "outputId": "072c548f-063d-48ae-8ddb-98c25fedd1c5"
      },
      "source": [
        "threshold = 3\r\n",
        "print(np.where(z > 3))"
      ],
      "execution_count": 211,
      "outputs": [
        {
          "output_type": "stream",
          "text": [
            "(array([ 18,  59,  59,  92, 137, 137, 158, 178, 194, 240, 246, 255, 261,\n",
            "       287, 376, 376, 384, 384, 386, 420, 444, 489]), array([1, 0, 2, 0, 1, 2, 2, 2, 2, 2, 2, 2, 2, 1, 0, 2, 0, 2, 2, 0, 0, 1]))\n"
          ],
          "name": "stdout"
        }
      ]
    },
    {
      "cell_type": "code",
      "metadata": {
        "colab": {
          "base_uri": "https://localhost:8080/"
        },
        "id": "gtLn00BpmCET",
        "outputId": "e6655191-6bfd-4806-9104-1d3c5223cfc1"
      },
      "source": [
        "loan_data_outlier= loan_data_outlier[(z < 3).all(axis=1)]\r\n",
        "loan_data_outlier.shape"
      ],
      "execution_count": 212,
      "outputs": [
        {
          "output_type": "execute_result",
          "data": {
            "text/plain": [
              "(473, 3)"
            ]
          },
          "metadata": {
            "tags": []
          },
          "execution_count": 212
        }
      ]
    },
    {
      "cell_type": "code",
      "metadata": {
        "id": "QmarLglvmTlW",
        "colab": {
          "base_uri": "https://localhost:8080/",
          "height": 500
        },
        "outputId": "055ced4b-b6bd-46df-d149-397716d0e1d1"
      },
      "source": [
        "plt.figure(figsize=(12,8))\r\n",
        "plt.subplot(3,3,1)\r\n",
        "sns.distplot(loan_data_outlier['applicant_income'], kde=False, bins= 10);\r\n",
        "plt.subplot(3,3,2)\r\n",
        "sns.boxplot(loan_data_outlier['applicant_income']);\r\n",
        "plt.subplot(3,3,3)\r\n",
        "sns.distplot(loan_data_outlier['applicant_income']);\r\n",
        "\r\n",
        "plt.subplot(3,3,4)\r\n",
        "sns.distplot(loan_data_outlier['co_applicant_income'], kde=False, bins = 10);\r\n",
        "plt.subplot(3,3,5)\r\n",
        "sns.boxplot(loan_data_outlier['co_applicant_income']);\r\n",
        "plt.subplot(3,3,6)\r\n",
        "sns.distplot(loan_data_outlier['co_applicant_income']);\r\n",
        "\r\n",
        "plt.subplot(3,3,7)\r\n",
        "sns.distplot(loan_data_outlier['loan_amount'], kde=False, bins= 10);\r\n",
        "plt.subplot(3,3,8)\r\n",
        "sns.boxplot(loan_data_outlier['loan_amount']);\r\n",
        "plt.subplot(3,3,9)\r\n",
        "sns.distplot(loan_data_outlier['loan_amount']);"
      ],
      "execution_count": 213,
      "outputs": [
        {
          "output_type": "display_data",
          "data": {
            "image/png": "[encoded data removed]",
            "text/plain": [
              "<Figure size 864x576 with 9 Axes>"
            ]
          },
          "metadata": {
            "tags": [],
            "needs_background": "light"
          }
        }
      ]
    },
    {
      "cell_type": "markdown",
      "metadata": {
        "id": "MQb3zqjlIHf2"
      },
      "source": [
        "# Correlation withing variables"
      ]
    },
    {
      "cell_type": "code",
      "metadata": {
        "colab": {
          "base_uri": "https://localhost:8080/",
          "height": 581
        },
        "id": "zSnahqSpGg0S",
        "outputId": "9b76d162-d466-444c-c679-370cb8f02b87"
      },
      "source": [
        "plt.figure(figsize = (10,8))\r\n",
        "sns.heatmap(loan_data.corr(), annot = True); # annot = true : to display the correlation value in the graph."
      ],
      "execution_count": 214,
      "outputs": [
        {
          "output_type": "display_data",
          "data": {
            "image/png": "[encoded data removed]",
            "text/plain": [
              "<Figure size 720x576 with 2 Axes>"
            ]
          },
          "metadata": {
            "tags": [],
            "needs_background": "light"
          }
        }
      ]
    },
    {
      "cell_type": "markdown",
      "metadata": {
        "id": "TQX651BHIZlo"
      },
      "source": [
        "Two variables are highly positively related with one relation between loan status & credit history and another relation between income with loan amount, high income person get high loan."
      ]
    },
    {
      "cell_type": "code",
      "metadata": {
        "colab": {
          "base_uri": "https://localhost:8080/",
          "height": 370
        },
        "id": "DF3OZMZZH_hJ",
        "outputId": "19cf07e2-cc62-4a56-af45-8756d80f9c72"
      },
      "source": [
        "loan_data['loan_status'].value_counts().plot(kind= 'bar', figsize = (10,6));"
      ],
      "execution_count": 215,
      "outputs": [
        {
          "output_type": "display_data",
          "data": {
            "image/png": "[encoded data removed]",
            "text/plain": [
              "<Figure size 720x432 with 1 Axes>"
            ]
          },
          "metadata": {
            "tags": [],
            "needs_background": "light"
          }
        }
      ]
    },
    {
      "cell_type": "markdown",
      "metadata": {
        "id": "462n03dvKQVP"
      },
      "source": [
        "# Encoding categorical features"
      ]
    },
    {
      "cell_type": "code",
      "metadata": {
        "colab": {
          "base_uri": "https://localhost:8080/",
          "height": 232
        },
        "id": "pTfzIFlCJrbb",
        "outputId": "410a2eed-bbc9-4350-e679-d77d8db86b08"
      },
      "source": [
        "loan_data_encoded = pd.get_dummies(loan_data,drop_first=True)\r\n",
        "loan_data_encoded.head()"
      ],
      "execution_count": 216,
      "outputs": [
        {
          "output_type": "execute_result",
          "data": {
            "text/html": [
              "<div>\n",
              "<style scoped>\n",
              "    .dataframe tbody tr th:only-of-type {\n",
              "        vertical-align: middle;\n",
              "    }\n",
              "\n",
              "    .dataframe tbody tr th {\n",
              "        vertical-align: top;\n",
              "    }\n",
              "\n",
              "    .dataframe thead th {\n",
              "        text-align: right;\n",
              "    }\n",
              "</style>\n",
              "<table border=\"1\" class=\"dataframe\">\n",
              "  <thead>\n",
              "    <tr style=\"text-align: right;\">\n",
              "      <th></th>\n",
              "      <th>applicant_income</th>\n",
              "      <th>co_applicant_income</th>\n",
              "      <th>loan_amount</th>\n",
              "      <th>loan_amount_term</th>\n",
              "      <th>credit_history</th>\n",
              "      <th>loan_status</th>\n",
              "      <th>gender_Male</th>\n",
              "      <th>gender_No Gender</th>\n",
              "      <th>married_No</th>\n",
              "      <th>married_Yes</th>\n",
              "      <th>dependents_0</th>\n",
              "      <th>dependents_1</th>\n",
              "      <th>dependents_2</th>\n",
              "      <th>dependents_3+</th>\n",
              "      <th>education_Not Graduate</th>\n",
              "      <th>self_employed_Yes</th>\n",
              "      <th>property_area_Semiurban</th>\n",
              "      <th>property_area_Urban</th>\n",
              "    </tr>\n",
              "  </thead>\n",
              "  <tbody>\n",
              "    <tr>\n",
              "      <th>0</th>\n",
              "      <td>4547</td>\n",
              "      <td>0.0</td>\n",
              "      <td>115.0</td>\n",
              "      <td>360.0</td>\n",
              "      <td>1.0</td>\n",
              "      <td>1</td>\n",
              "      <td>0</td>\n",
              "      <td>0</td>\n",
              "      <td>1</td>\n",
              "      <td>0</td>\n",
              "      <td>1</td>\n",
              "      <td>0</td>\n",
              "      <td>0</td>\n",
              "      <td>0</td>\n",
              "      <td>0</td>\n",
              "      <td>0</td>\n",
              "      <td>1</td>\n",
              "      <td>0</td>\n",
              "    </tr>\n",
              "    <tr>\n",
              "      <th>1</th>\n",
              "      <td>5703</td>\n",
              "      <td>0.0</td>\n",
              "      <td>130.0</td>\n",
              "      <td>360.0</td>\n",
              "      <td>1.0</td>\n",
              "      <td>1</td>\n",
              "      <td>1</td>\n",
              "      <td>0</td>\n",
              "      <td>0</td>\n",
              "      <td>1</td>\n",
              "      <td>0</td>\n",
              "      <td>0</td>\n",
              "      <td>0</td>\n",
              "      <td>1</td>\n",
              "      <td>1</td>\n",
              "      <td>1</td>\n",
              "      <td>0</td>\n",
              "      <td>0</td>\n",
              "    </tr>\n",
              "    <tr>\n",
              "      <th>2</th>\n",
              "      <td>4333</td>\n",
              "      <td>2451.0</td>\n",
              "      <td>110.0</td>\n",
              "      <td>360.0</td>\n",
              "      <td>1.0</td>\n",
              "      <td>0</td>\n",
              "      <td>0</td>\n",
              "      <td>0</td>\n",
              "      <td>0</td>\n",
              "      <td>1</td>\n",
              "      <td>1</td>\n",
              "      <td>0</td>\n",
              "      <td>0</td>\n",
              "      <td>0</td>\n",
              "      <td>0</td>\n",
              "      <td>0</td>\n",
              "      <td>0</td>\n",
              "      <td>1</td>\n",
              "    </tr>\n",
              "    <tr>\n",
              "      <th>3</th>\n",
              "      <td>4695</td>\n",
              "      <td>0.0</td>\n",
              "      <td>96.0</td>\n",
              "      <td>360.0</td>\n",
              "      <td>1.0</td>\n",
              "      <td>1</td>\n",
              "      <td>1</td>\n",
              "      <td>0</td>\n",
              "      <td>0</td>\n",
              "      <td>1</td>\n",
              "      <td>1</td>\n",
              "      <td>0</td>\n",
              "      <td>0</td>\n",
              "      <td>0</td>\n",
              "      <td>1</td>\n",
              "      <td>1</td>\n",
              "      <td>0</td>\n",
              "      <td>1</td>\n",
              "    </tr>\n",
              "    <tr>\n",
              "      <th>4</th>\n",
              "      <td>6700</td>\n",
              "      <td>1750.0</td>\n",
              "      <td>230.0</td>\n",
              "      <td>300.0</td>\n",
              "      <td>1.0</td>\n",
              "      <td>1</td>\n",
              "      <td>1</td>\n",
              "      <td>0</td>\n",
              "      <td>0</td>\n",
              "      <td>1</td>\n",
              "      <td>0</td>\n",
              "      <td>0</td>\n",
              "      <td>1</td>\n",
              "      <td>0</td>\n",
              "      <td>0</td>\n",
              "      <td>0</td>\n",
              "      <td>1</td>\n",
              "      <td>0</td>\n",
              "    </tr>\n",
              "  </tbody>\n",
              "</table>\n",
              "</div>"
            ],
            "text/plain": [
              "   applicant_income  ...  property_area_Urban\n",
              "0              4547  ...                    0\n",
              "1              5703  ...                    0\n",
              "2              4333  ...                    1\n",
              "3              4695  ...                    1\n",
              "4              6700  ...                    0\n",
              "\n",
              "[5 rows x 18 columns]"
            ]
          },
          "metadata": {
            "tags": []
          },
          "execution_count": 216
        }
      ]
    },
    {
      "cell_type": "code",
      "metadata": {
        "colab": {
          "base_uri": "https://localhost:8080/"
        },
        "id": "N_C-F1J7KeOa",
        "outputId": "07460ab9-66dc-475b-d318-73b001f42bfa"
      },
      "source": [
        "loan_data_encoded.shape"
      ],
      "execution_count": 217,
      "outputs": [
        {
          "output_type": "execute_result",
          "data": {
            "text/plain": [
              "(491, 18)"
            ]
          },
          "metadata": {
            "tags": []
          },
          "execution_count": 217
        }
      ]
    },
    {
      "cell_type": "code",
      "metadata": {
        "colab": {
          "base_uri": "https://localhost:8080/"
        },
        "id": "xr9-q5KnKoc_",
        "outputId": "0d45ee54-9fd3-4fd7-ab4a-6e6a1b6a341e"
      },
      "source": [
        "loan_data.shape"
      ],
      "execution_count": 218,
      "outputs": [
        {
          "output_type": "execute_result",
          "data": {
            "text/plain": [
              "(491, 12)"
            ]
          },
          "metadata": {
            "tags": []
          },
          "execution_count": 218
        }
      ]
    },
    {
      "cell_type": "code",
      "metadata": {
        "colab": {
          "base_uri": "https://localhost:8080/"
        },
        "id": "iVizmjncQYsF",
        "outputId": "34aa243c-69e4-4ff9-a124-6626cebf7364"
      },
      "source": [
        "loan_data_encoded['loan_status'].value_counts()"
      ],
      "execution_count": 219,
      "outputs": [
        {
          "output_type": "execute_result",
          "data": {
            "text/plain": [
              "1    343\n",
              "0    148\n",
              "Name: loan_status, dtype: int64"
            ]
          },
          "metadata": {
            "tags": []
          },
          "execution_count": 219
        }
      ]
    },
    {
      "cell_type": "markdown",
      "metadata": {
        "id": "jpjcWwoWMlfO"
      },
      "source": [
        "# Separating Input Features and Output Features"
      ]
    },
    {
      "cell_type": "code",
      "metadata": {
        "id": "ZIQWTlPpMZN7"
      },
      "source": [
        "# Split Features and Target Varible\r\n",
        "X = loan_data_encoded.drop(columns='loan_status')\r\n",
        "y = loan_data_encoded['loan_status']"
      ],
      "execution_count": 221,
      "outputs": []
    },
    {
      "cell_type": "markdown",
      "metadata": {
        "id": "sFwuUDjcOnXP"
      },
      "source": [
        "# Split into train test data"
      ]
    },
    {
      "cell_type": "code",
      "metadata": {
        "id": "xa8ireO7Onor"
      },
      "source": [
        "\r\n",
        "from sklearn.model_selection import train_test_split\r\n",
        "X_train,X_test,y_train,y_test = train_test_split(X,y,test_size=0.2,random_state =42);"
      ],
      "execution_count": 222,
      "outputs": []
    },
    {
      "cell_type": "markdown",
      "metadata": {
        "id": "1JBDxrs9PfdY"
      },
      "source": [
        "# Model building, evaluation and performance measurement"
      ]
    },
    {
      "cell_type": "markdown",
      "metadata": {
        "id": "2_e1V0bVwBVh"
      },
      "source": [
        "# LogisticRegression"
      ]
    },
    {
      "cell_type": "code",
      "metadata": {
        "colab": {
          "base_uri": "https://localhost:8080/"
        },
        "id": "266jR5lSq00S",
        "outputId": "527d93eb-2c3e-4d0a-bfb4-f18a7f385ebc"
      },
      "source": [
        "from sklearn.linear_model import LogisticRegression\r\n",
        "lr=LogisticRegression(random_state=0)\r\n",
        "lr.fit(X_train,y_train)\r\n",
        "lr_pred=lr.predict(X_test)\r\n",
        "lr_ac = f1_score(y_test, lr_pred)\r\n",
        "print(\"F1 score\", lr_ac)"
      ],
      "execution_count": 223,
      "outputs": [
        {
          "output_type": "stream",
          "text": [
            "F1 score 0.8767123287671232\n"
          ],
          "name": "stdout"
        }
      ]
    },
    {
      "cell_type": "markdown",
      "metadata": {
        "id": "aDN7z8tav6wg"
      },
      "source": [
        "# Random forest classifier"
      ]
    },
    {
      "cell_type": "code",
      "metadata": {
        "colab": {
          "base_uri": "https://localhost:8080/"
        },
        "id": "RWAak_6prcyJ",
        "outputId": "29a924f7-2fdd-43c3-966d-d32165d2e48c"
      },
      "source": [
        "from sklearn.ensemble import RandomForestClassifier\r\n",
        "rfc = RandomForestClassifier(n_estimators=25, class_weight=\"balanced\")\r\n",
        "rfc.fit(X_train,y_train)\r\n",
        "rf_pred = rfc.predict(X_test)\r\n",
        "rf_ac = f1_score(y_test, rf_pred)\r\n",
        "print(\"F1 score :\", rf_ac)"
      ],
      "execution_count": 224,
      "outputs": [
        {
          "output_type": "stream",
          "text": [
            "F1 score : 0.8115942028985507\n"
          ],
          "name": "stdout"
        }
      ]
    },
    {
      "cell_type": "markdown",
      "metadata": {
        "id": "VyWefUhqvxPF"
      },
      "source": [
        "# XGBoost Classifier"
      ]
    },
    {
      "cell_type": "code",
      "metadata": {
        "colab": {
          "base_uri": "https://localhost:8080/"
        },
        "id": "mJsuB2J9rlO-",
        "outputId": "0d6775e6-f44e-41de-ae88-b1c0e18ec998"
      },
      "source": [
        "from xgboost import XGBClassifier\r\n",
        "xgb = XGBClassifier(n_estimators=500, max_depth=5, random_state=42)\r\n",
        "xgb.fit(X_train,y_train)\r\n",
        "\r\n",
        "# Making predictions on test data\r\n",
        "xgb_pred = xgb.predict(X_test)\r\n",
        "\r\n",
        "# Model performance evaluation\r\n",
        "xgb_ac= f1_score(y_test, xgb_pred)\r\n",
        "print('f1-score : ', xgb_ac)"
      ],
      "execution_count": 225,
      "outputs": [
        {
          "output_type": "stream",
          "text": [
            "f1-score :  0.8\n"
          ],
          "name": "stdout"
        }
      ]
    },
    {
      "cell_type": "markdown",
      "metadata": {
        "id": "8rCARMaAweHj"
      },
      "source": [
        "# TEst data "
      ]
    },
    {
      "cell_type": "code",
      "metadata": {
        "colab": {
          "base_uri": "https://localhost:8080/",
          "height": 195
        },
        "id": "Ai8eA_gdtVYM",
        "outputId": "c385eb3f-8584-4420-ac90-c87f533a2ea3"
      },
      "source": [
        "test_data = pd.read_csv('https://raw.githubusercontent.com/dphi-official/Datasets/master/Loan_Data/loan_test.csv')\r\n",
        "test_data.head()"
      ],
      "execution_count": 226,
      "outputs": [
        {
          "output_type": "execute_result",
          "data": {
            "text/html": [
              "<div>\n",
              "<style scoped>\n",
              "    .dataframe tbody tr th:only-of-type {\n",
              "        vertical-align: middle;\n",
              "    }\n",
              "\n",
              "    .dataframe tbody tr th {\n",
              "        vertical-align: top;\n",
              "    }\n",
              "\n",
              "    .dataframe thead th {\n",
              "        text-align: right;\n",
              "    }\n",
              "</style>\n",
              "<table border=\"1\" class=\"dataframe\">\n",
              "  <thead>\n",
              "    <tr style=\"text-align: right;\">\n",
              "      <th></th>\n",
              "      <th>Loan_ID</th>\n",
              "      <th>Gender</th>\n",
              "      <th>Married</th>\n",
              "      <th>Dependents</th>\n",
              "      <th>Education</th>\n",
              "      <th>Self_Employed</th>\n",
              "      <th>ApplicantIncome</th>\n",
              "      <th>CoapplicantIncome</th>\n",
              "      <th>LoanAmount</th>\n",
              "      <th>Loan_Amount_Term</th>\n",
              "      <th>Credit_History</th>\n",
              "      <th>Property_Area</th>\n",
              "    </tr>\n",
              "  </thead>\n",
              "  <tbody>\n",
              "    <tr>\n",
              "      <th>0</th>\n",
              "      <td>LP001116</td>\n",
              "      <td>Male</td>\n",
              "      <td>No</td>\n",
              "      <td>0</td>\n",
              "      <td>Not Graduate</td>\n",
              "      <td>No</td>\n",
              "      <td>3748</td>\n",
              "      <td>1668.0</td>\n",
              "      <td>110.0</td>\n",
              "      <td>360.0</td>\n",
              "      <td>1.0</td>\n",
              "      <td>Semiurban</td>\n",
              "    </tr>\n",
              "    <tr>\n",
              "      <th>1</th>\n",
              "      <td>LP001488</td>\n",
              "      <td>Male</td>\n",
              "      <td>Yes</td>\n",
              "      <td>3+</td>\n",
              "      <td>Graduate</td>\n",
              "      <td>No</td>\n",
              "      <td>4000</td>\n",
              "      <td>7750.0</td>\n",
              "      <td>290.0</td>\n",
              "      <td>360.0</td>\n",
              "      <td>1.0</td>\n",
              "      <td>Semiurban</td>\n",
              "    </tr>\n",
              "    <tr>\n",
              "      <th>2</th>\n",
              "      <td>LP002138</td>\n",
              "      <td>Male</td>\n",
              "      <td>Yes</td>\n",
              "      <td>0</td>\n",
              "      <td>Graduate</td>\n",
              "      <td>No</td>\n",
              "      <td>2625</td>\n",
              "      <td>6250.0</td>\n",
              "      <td>187.0</td>\n",
              "      <td>360.0</td>\n",
              "      <td>1.0</td>\n",
              "      <td>Rural</td>\n",
              "    </tr>\n",
              "    <tr>\n",
              "      <th>3</th>\n",
              "      <td>LP002284</td>\n",
              "      <td>Male</td>\n",
              "      <td>No</td>\n",
              "      <td>0</td>\n",
              "      <td>Not Graduate</td>\n",
              "      <td>No</td>\n",
              "      <td>3902</td>\n",
              "      <td>1666.0</td>\n",
              "      <td>109.0</td>\n",
              "      <td>360.0</td>\n",
              "      <td>1.0</td>\n",
              "      <td>Rural</td>\n",
              "    </tr>\n",
              "    <tr>\n",
              "      <th>4</th>\n",
              "      <td>LP002328</td>\n",
              "      <td>Male</td>\n",
              "      <td>Yes</td>\n",
              "      <td>0</td>\n",
              "      <td>Not Graduate</td>\n",
              "      <td>No</td>\n",
              "      <td>6096</td>\n",
              "      <td>0.0</td>\n",
              "      <td>218.0</td>\n",
              "      <td>360.0</td>\n",
              "      <td>0.0</td>\n",
              "      <td>Rural</td>\n",
              "    </tr>\n",
              "  </tbody>\n",
              "</table>\n",
              "</div>"
            ],
            "text/plain": [
              "    Loan_ID Gender Married  ... Loan_Amount_Term Credit_History Property_Area\n",
              "0  LP001116   Male      No  ...            360.0            1.0     Semiurban\n",
              "1  LP001488   Male     Yes  ...            360.0            1.0     Semiurban\n",
              "2  LP002138   Male     Yes  ...            360.0            1.0         Rural\n",
              "3  LP002284   Male      No  ...            360.0            1.0         Rural\n",
              "4  LP002328   Male     Yes  ...            360.0            0.0         Rural\n",
              "\n",
              "[5 rows x 12 columns]"
            ]
          },
          "metadata": {
            "tags": []
          },
          "execution_count": 226
        }
      ]
    },
    {
      "cell_type": "code",
      "metadata": {
        "id": "L_atwC-nwjD_"
      },
      "source": [
        "test_data.drop(columns=['Loan_ID'], inplace = True)"
      ],
      "execution_count": 227,
      "outputs": []
    },
    {
      "cell_type": "code",
      "metadata": {
        "id": "KOS7BX6vwxnx"
      },
      "source": [
        "test_data = test_data.rename(columns={'ApplicantIncome': 'applicant_income', 'CoapplicantIncome': 'co_applicant_income', 'LoanAmount': 'loan_amount'})\r\n",
        "test_data.rename(columns = str.lower, inplace = True)"
      ],
      "execution_count": 228,
      "outputs": []
    },
    {
      "cell_type": "code",
      "metadata": {
        "colab": {
          "base_uri": "https://localhost:8080/",
          "height": 106
        },
        "id": "dGfHnV5MxK3U",
        "outputId": "17f080ef-ddcb-4dc7-bff3-80af5a93ae53"
      },
      "source": [
        "test_data.head(2)"
      ],
      "execution_count": 229,
      "outputs": [
        {
          "output_type": "execute_result",
          "data": {
            "text/html": [
              "<div>\n",
              "<style scoped>\n",
              "    .dataframe tbody tr th:only-of-type {\n",
              "        vertical-align: middle;\n",
              "    }\n",
              "\n",
              "    .dataframe tbody tr th {\n",
              "        vertical-align: top;\n",
              "    }\n",
              "\n",
              "    .dataframe thead th {\n",
              "        text-align: right;\n",
              "    }\n",
              "</style>\n",
              "<table border=\"1\" class=\"dataframe\">\n",
              "  <thead>\n",
              "    <tr style=\"text-align: right;\">\n",
              "      <th></th>\n",
              "      <th>gender</th>\n",
              "      <th>married</th>\n",
              "      <th>dependents</th>\n",
              "      <th>education</th>\n",
              "      <th>self_employed</th>\n",
              "      <th>applicant_income</th>\n",
              "      <th>co_applicant_income</th>\n",
              "      <th>loan_amount</th>\n",
              "      <th>loan_amount_term</th>\n",
              "      <th>credit_history</th>\n",
              "      <th>property_area</th>\n",
              "    </tr>\n",
              "  </thead>\n",
              "  <tbody>\n",
              "    <tr>\n",
              "      <th>0</th>\n",
              "      <td>Male</td>\n",
              "      <td>No</td>\n",
              "      <td>0</td>\n",
              "      <td>Not Graduate</td>\n",
              "      <td>No</td>\n",
              "      <td>3748</td>\n",
              "      <td>1668.0</td>\n",
              "      <td>110.0</td>\n",
              "      <td>360.0</td>\n",
              "      <td>1.0</td>\n",
              "      <td>Semiurban</td>\n",
              "    </tr>\n",
              "    <tr>\n",
              "      <th>1</th>\n",
              "      <td>Male</td>\n",
              "      <td>Yes</td>\n",
              "      <td>3+</td>\n",
              "      <td>Graduate</td>\n",
              "      <td>No</td>\n",
              "      <td>4000</td>\n",
              "      <td>7750.0</td>\n",
              "      <td>290.0</td>\n",
              "      <td>360.0</td>\n",
              "      <td>1.0</td>\n",
              "      <td>Semiurban</td>\n",
              "    </tr>\n",
              "  </tbody>\n",
              "</table>\n",
              "</div>"
            ],
            "text/plain": [
              "  gender married dependents  ... loan_amount_term credit_history  property_area\n",
              "0   Male      No          0  ...            360.0            1.0      Semiurban\n",
              "1   Male     Yes         3+  ...            360.0            1.0      Semiurban\n",
              "\n",
              "[2 rows x 11 columns]"
            ]
          },
          "metadata": {
            "tags": []
          },
          "execution_count": 229
        }
      ]
    },
    {
      "cell_type": "code",
      "metadata": {
        "colab": {
          "base_uri": "https://localhost:8080/"
        },
        "id": "EGm14Hjp0L6c",
        "outputId": "e836fb92-66a5-4cd4-cff6-1574008040d0"
      },
      "source": [
        "test_data.isnull().sum()"
      ],
      "execution_count": 230,
      "outputs": [
        {
          "output_type": "execute_result",
          "data": {
            "text/plain": [
              "gender                 3\n",
              "married                2\n",
              "dependents             6\n",
              "education              0\n",
              "self_employed          3\n",
              "applicant_income       0\n",
              "co_applicant_income    0\n",
              "loan_amount            6\n",
              "loan_amount_term       1\n",
              "credit_history         7\n",
              "property_area          0\n",
              "dtype: int64"
            ]
          },
          "metadata": {
            "tags": []
          },
          "execution_count": 230
        }
      ]
    },
    {
      "cell_type": "code",
      "metadata": {
        "id": "jprFpw_h10L8"
      },
      "source": [
        "test_data['gender'].fillna('No Gender', inplace = True)\r\n",
        "test_data['married'].fillna(0, inplace = True)\r\n",
        "test_data['dependents'].fillna(0, inplace = True)\r\n",
        "test_data['self_employed'].fillna(method = 'bfill', inplace = True)\r\n",
        "test_data['loan_amount'].fillna(loan_data['loan_amount'].mean(), inplace = True)\r\n",
        "test_data['loan_amount_term'].fillna(method ='ffill', inplace = True)\r\n",
        "test_data['credit_history'].fillna(method = 'ffill', inplace = True)"
      ],
      "execution_count": 231,
      "outputs": []
    },
    {
      "cell_type": "code",
      "metadata": {
        "colab": {
          "base_uri": "https://localhost:8080/"
        },
        "id": "usfP5es50ILT",
        "outputId": "bdbcedce-27a7-4e7b-aeaa-cb22449d050a"
      },
      "source": [
        "test_data = test_data.dropna()\r\n",
        "test_data.isnull().sum()"
      ],
      "execution_count": 232,
      "outputs": [
        {
          "output_type": "execute_result",
          "data": {
            "text/plain": [
              "gender                 0\n",
              "married                0\n",
              "dependents             0\n",
              "education              0\n",
              "self_employed          0\n",
              "applicant_income       0\n",
              "co_applicant_income    0\n",
              "loan_amount            0\n",
              "loan_amount_term       0\n",
              "credit_history         0\n",
              "property_area          0\n",
              "dtype: int64"
            ]
          },
          "metadata": {
            "tags": []
          },
          "execution_count": 232
        }
      ]
    },
    {
      "cell_type": "code",
      "metadata": {
        "colab": {
          "base_uri": "https://localhost:8080/",
          "height": 232
        },
        "id": "ai8zlpk1xuFe",
        "outputId": "122d4dee-6678-45b1-f605-4be76b88cb3d"
      },
      "source": [
        "test_data_encoded = pd.get_dummies(test_data,drop_first=True)\r\n",
        "test_data_encoded.head()"
      ],
      "execution_count": 233,
      "outputs": [
        {
          "output_type": "execute_result",
          "data": {
            "text/html": [
              "<div>\n",
              "<style scoped>\n",
              "    .dataframe tbody tr th:only-of-type {\n",
              "        vertical-align: middle;\n",
              "    }\n",
              "\n",
              "    .dataframe tbody tr th {\n",
              "        vertical-align: top;\n",
              "    }\n",
              "\n",
              "    .dataframe thead th {\n",
              "        text-align: right;\n",
              "    }\n",
              "</style>\n",
              "<table border=\"1\" class=\"dataframe\">\n",
              "  <thead>\n",
              "    <tr style=\"text-align: right;\">\n",
              "      <th></th>\n",
              "      <th>applicant_income</th>\n",
              "      <th>co_applicant_income</th>\n",
              "      <th>loan_amount</th>\n",
              "      <th>loan_amount_term</th>\n",
              "      <th>credit_history</th>\n",
              "      <th>gender_Male</th>\n",
              "      <th>gender_No Gender</th>\n",
              "      <th>married_No</th>\n",
              "      <th>married_Yes</th>\n",
              "      <th>dependents_0</th>\n",
              "      <th>dependents_1</th>\n",
              "      <th>dependents_2</th>\n",
              "      <th>dependents_3+</th>\n",
              "      <th>education_Not Graduate</th>\n",
              "      <th>self_employed_Yes</th>\n",
              "      <th>property_area_Semiurban</th>\n",
              "      <th>property_area_Urban</th>\n",
              "    </tr>\n",
              "  </thead>\n",
              "  <tbody>\n",
              "    <tr>\n",
              "      <th>0</th>\n",
              "      <td>3748</td>\n",
              "      <td>1668.0</td>\n",
              "      <td>110.0</td>\n",
              "      <td>360.0</td>\n",
              "      <td>1.0</td>\n",
              "      <td>1</td>\n",
              "      <td>0</td>\n",
              "      <td>1</td>\n",
              "      <td>0</td>\n",
              "      <td>1</td>\n",
              "      <td>0</td>\n",
              "      <td>0</td>\n",
              "      <td>0</td>\n",
              "      <td>1</td>\n",
              "      <td>0</td>\n",
              "      <td>1</td>\n",
              "      <td>0</td>\n",
              "    </tr>\n",
              "    <tr>\n",
              "      <th>1</th>\n",
              "      <td>4000</td>\n",
              "      <td>7750.0</td>\n",
              "      <td>290.0</td>\n",
              "      <td>360.0</td>\n",
              "      <td>1.0</td>\n",
              "      <td>1</td>\n",
              "      <td>0</td>\n",
              "      <td>0</td>\n",
              "      <td>1</td>\n",
              "      <td>0</td>\n",
              "      <td>0</td>\n",
              "      <td>0</td>\n",
              "      <td>1</td>\n",
              "      <td>0</td>\n",
              "      <td>0</td>\n",
              "      <td>1</td>\n",
              "      <td>0</td>\n",
              "    </tr>\n",
              "    <tr>\n",
              "      <th>2</th>\n",
              "      <td>2625</td>\n",
              "      <td>6250.0</td>\n",
              "      <td>187.0</td>\n",
              "      <td>360.0</td>\n",
              "      <td>1.0</td>\n",
              "      <td>1</td>\n",
              "      <td>0</td>\n",
              "      <td>0</td>\n",
              "      <td>1</td>\n",
              "      <td>1</td>\n",
              "      <td>0</td>\n",
              "      <td>0</td>\n",
              "      <td>0</td>\n",
              "      <td>0</td>\n",
              "      <td>0</td>\n",
              "      <td>0</td>\n",
              "      <td>0</td>\n",
              "    </tr>\n",
              "    <tr>\n",
              "      <th>3</th>\n",
              "      <td>3902</td>\n",
              "      <td>1666.0</td>\n",
              "      <td>109.0</td>\n",
              "      <td>360.0</td>\n",
              "      <td>1.0</td>\n",
              "      <td>1</td>\n",
              "      <td>0</td>\n",
              "      <td>1</td>\n",
              "      <td>0</td>\n",
              "      <td>1</td>\n",
              "      <td>0</td>\n",
              "      <td>0</td>\n",
              "      <td>0</td>\n",
              "      <td>1</td>\n",
              "      <td>0</td>\n",
              "      <td>0</td>\n",
              "      <td>0</td>\n",
              "    </tr>\n",
              "    <tr>\n",
              "      <th>4</th>\n",
              "      <td>6096</td>\n",
              "      <td>0.0</td>\n",
              "      <td>218.0</td>\n",
              "      <td>360.0</td>\n",
              "      <td>0.0</td>\n",
              "      <td>1</td>\n",
              "      <td>0</td>\n",
              "      <td>0</td>\n",
              "      <td>1</td>\n",
              "      <td>1</td>\n",
              "      <td>0</td>\n",
              "      <td>0</td>\n",
              "      <td>0</td>\n",
              "      <td>1</td>\n",
              "      <td>0</td>\n",
              "      <td>0</td>\n",
              "      <td>0</td>\n",
              "    </tr>\n",
              "  </tbody>\n",
              "</table>\n",
              "</div>"
            ],
            "text/plain": [
              "   applicant_income  ...  property_area_Urban\n",
              "0              3748  ...                    0\n",
              "1              4000  ...                    0\n",
              "2              2625  ...                    0\n",
              "3              3902  ...                    0\n",
              "4              6096  ...                    0\n",
              "\n",
              "[5 rows x 17 columns]"
            ]
          },
          "metadata": {
            "tags": []
          },
          "execution_count": 233
        }
      ]
    },
    {
      "cell_type": "code",
      "metadata": {
        "colab": {
          "base_uri": "https://localhost:8080/"
        },
        "id": "4cpWyk1xyFxH",
        "outputId": "4305658f-b36e-4d95-aada-419e03d2c902"
      },
      "source": [
        "test_data_encoded.shape"
      ],
      "execution_count": 234,
      "outputs": [
        {
          "output_type": "execute_result",
          "data": {
            "text/plain": [
              "(123, 17)"
            ]
          },
          "metadata": {
            "tags": []
          },
          "execution_count": 234
        }
      ]
    },
    {
      "cell_type": "code",
      "metadata": {
        "colab": {
          "base_uri": "https://localhost:8080/"
        },
        "id": "wgk_bWN6yRkI",
        "outputId": "0da56b88-981d-4530-f096-9af0ffb0e949"
      },
      "source": [
        "predictions = lr.predict(test_data_encoded)\r\n",
        "predictions"
      ],
      "execution_count": 235,
      "outputs": [
        {
          "output_type": "execute_result",
          "data": {
            "text/plain": [
              "array([1, 1, 1, 1, 0, 0, 1, 1, 1, 1, 1, 1, 1, 1, 1, 0, 1, 1, 0, 1, 1, 1,\n",
              "       1, 1, 1, 0, 1, 1, 1, 1, 1, 1, 1, 1, 1, 1, 1, 1, 1, 1, 1, 0, 1, 1,\n",
              "       0, 0, 1, 1, 1, 1, 1, 1, 1, 1, 1, 1, 1, 1, 1, 1, 1, 1, 1, 0, 0, 1,\n",
              "       1, 1, 1, 1, 1, 1, 1, 0, 1, 0, 1, 1, 1, 0, 1, 1, 1, 1, 0, 0, 1, 1,\n",
              "       1, 0, 0, 1, 1, 1, 0, 1, 1, 1, 1, 1, 0, 1, 1, 1, 1, 1, 1, 0, 0, 1,\n",
              "       1, 1, 1, 1, 1, 1, 1, 1, 1, 1, 1, 1, 1])"
            ]
          },
          "metadata": {
            "tags": []
          },
          "execution_count": 235
        }
      ]
    },
    {
      "cell_type": "markdown",
      "metadata": {
        "id": "r98pkYUx6Qgn"
      },
      "source": [
        "# Saving prediction file and sample submission"
      ]
    },
    {
      "cell_type": "code",
      "metadata": {
        "colab": {
          "base_uri": "https://localhost:8080/",
          "height": 17
        },
        "id": "ptNK-dLD07j9",
        "outputId": "41860c5c-89a3-4dc2-c53a-7d078f4874ec"
      },
      "source": [
        "# To create Dataframe of predicted value with particular respective index\r\n",
        "res = pd.DataFrame(predictions) #preditcions are nothing but the final predictions of your model on input features of your new unseen test data\r\n",
        "res.index = test_data_encoded.index # its important for comparison.\r\n",
        "res.columns = [\"prediction\"]\r\n",
        "\r\n",
        "# To download the csv file locally\r\n",
        "from google.colab import files\r\n",
        "#res.to_csv('prediction_results.csv')         \r\n",
        "#files.download('prediction_results.csv')"
      ],
      "execution_count": 236,
      "outputs": [
        {
          "output_type": "display_data",
          "data": {
            "application/javascript": [
              "\n",
              "    async function download(id, filename, size) {\n",
              "      if (!google.colab.kernel.accessAllowed) {\n",
              "        return;\n",
              "      }\n",
              "      const div = document.createElement('div');\n",
              "      const label = document.createElement('label');\n",
              "      label.textContent = `Downloading \"${filename}\": `;\n",
              "      div.appendChild(label);\n",
              "      const progress = document.createElement('progress');\n",
              "      progress.max = size;\n",
              "      div.appendChild(progress);\n",
              "      document.body.appendChild(div);\n",
              "\n",
              "      const buffers = [];\n",
              "      let downloaded = 0;\n",
              "\n",
              "      const channel = await google.colab.kernel.comms.open(id);\n",
              "      // Send a message to notify the kernel that we're ready.\n",
              "      channel.send({})\n",
              "\n",
              "      for await (const message of channel.messages) {\n",
              "        // Send a message to notify the kernel that we're ready.\n",
              "        channel.send({})\n",
              "        if (message.buffers) {\n",
              "          for (const buffer of message.buffers) {\n",
              "            buffers.push(buffer);\n",
              "            downloaded += buffer.byteLength;\n",
              "            progress.value = downloaded;\n",
              "          }\n",
              "        }\n",
              "      }\n",
              "      const blob = new Blob(buffers, {type: 'application/binary'});\n",
              "      const a = document.createElement('a');\n",
              "      a.href = window.URL.createObjectURL(blob);\n",
              "      a.download = filename;\n",
              "      div.appendChild(a);\n",
              "      a.click();\n",
              "      div.remove();\n",
              "    }\n",
              "  "
            ],
            "text/plain": [
              "<IPython.core.display.Javascript object>"
            ]
          },
          "metadata": {
            "tags": []
          }
        },
        {
          "output_type": "display_data",
          "data": {
            "application/javascript": [
              "download(\"download_b7572c8a-cb70-4677-aba5-855996591d11\", \"prediction_results.csv\", 640)"
            ],
            "text/plain": [
              "<IPython.core.display.Javascript object>"
            ]
          },
          "metadata": {
            "tags": []
          }
        }
      ]
    },
    {
      "cell_type": "markdown",
      "metadata": {
        "id": "I-xjPmZg7Io9"
      },
      "source": [
        "# Conclusion\r\n",
        "After loading datasets we did cleaning, preprocessing, EDA, model building and performance testing on different model. Based on various model testing Logistic regression showed best accuracy results for loan prediction.  \r\n",
        "\r\n"
      ]
    },
    {
      "cell_type": "code",
      "metadata": {
        "id": "ngk-Rp706Z3z"
      },
      "source": [
        ""
      ],
      "execution_count": null,
      "outputs": []
    }
  ]
}