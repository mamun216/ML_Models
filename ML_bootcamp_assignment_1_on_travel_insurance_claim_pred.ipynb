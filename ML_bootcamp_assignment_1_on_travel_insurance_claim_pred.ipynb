{
  "nbformat": 4,
  "nbformat_minor": 0,
  "metadata": {
    "colab": {
      "name": "ML  bootcamp assignment-1 on travel insurance claim pred.ipynb",
      "provenance": [],
      "collapsed_sections": [],
      "authorship_tag": "ABX9TyMMUaf0bLI9u0b2cU0RYFC6",
      "include_colab_link": true
    },
    "kernelspec": {
      "name": "python3",
      "display_name": "Python 3"
    }
  },
  "cells": [
    {
      "cell_type": "markdown",
      "metadata": {
        "id": "view-in-github",
        "colab_type": "text"
      },
      "source": [
        "<a href=\"https://colab.research.google.com/github/mamun216/ML_Models/blob/master/ML_bootcamp_assignment_1_on_travel_insurance_claim_pred.ipynb\" target=\"_parent\"><img src=\"https://colab.research.google.com/assets/colab-badge.svg\" alt=\"Open In Colab\"/></a>"
      ]
    },
    {
      "cell_type": "code",
      "metadata": {
        "id": "AmVIoCkrazbR"
      },
      "source": [
        "import pandas as pd\r\n",
        "import numpy as np\r\n",
        "from matplotlib import pyplot as plt\r\n",
        "import seaborn as sns\r\n",
        "\r\n",
        "from sklearn import metrics\r\n",
        "\r\n",
        "from sklearn import preprocessing\r\n",
        "\r\n",
        "from sklearn.metrics import classification_report, confusion_matrix, roc_curve, roc_auc_score,auc, accuracy_score\r\n",
        "\r\n",
        "from sklearn.model_selection import train_test_split\r\n",
        "\r\n",
        "from sklearn import ensemble\r\n",
        "import warnings\r\n",
        "warnings.filterwarnings(\"ignore\")\r\n",
        "%matplotlib inline"
      ],
      "execution_count": 1,
      "outputs": []
    },
    {
      "cell_type": "code",
      "metadata": {
        "id": "MuOguTVVa5d-"
      },
      "source": [
        "insurance_data = pd.read_csv(\"https://github.com/dphi-official/Datasets/blob/master/travel_insurance/Training_set_label.csv?raw=true\")"
      ],
      "execution_count": 2,
      "outputs": []
    },
    {
      "cell_type": "code",
      "metadata": {
        "colab": {
          "base_uri": "https://localhost:8080/",
          "height": 195
        },
        "id": "Ssh-LEpDbFgE",
        "outputId": "a402b061-7171-49d8-a698-802bfbd2fd52"
      },
      "source": [
        "insurance_data.head()"
      ],
      "execution_count": 3,
      "outputs": [
        {
          "output_type": "execute_result",
          "data": {
            "text/html": [
              "<div>\n",
              "<style scoped>\n",
              "    .dataframe tbody tr th:only-of-type {\n",
              "        vertical-align: middle;\n",
              "    }\n",
              "\n",
              "    .dataframe tbody tr th {\n",
              "        vertical-align: top;\n",
              "    }\n",
              "\n",
              "    .dataframe thead th {\n",
              "        text-align: right;\n",
              "    }\n",
              "</style>\n",
              "<table border=\"1\" class=\"dataframe\">\n",
              "  <thead>\n",
              "    <tr style=\"text-align: right;\">\n",
              "      <th></th>\n",
              "      <th>Agency</th>\n",
              "      <th>Agency Type</th>\n",
              "      <th>Distribution Channel</th>\n",
              "      <th>Product Name</th>\n",
              "      <th>Duration</th>\n",
              "      <th>Destination</th>\n",
              "      <th>Net Sales</th>\n",
              "      <th>Commision (in value)</th>\n",
              "      <th>Gender</th>\n",
              "      <th>Age</th>\n",
              "      <th>Claim</th>\n",
              "    </tr>\n",
              "  </thead>\n",
              "  <tbody>\n",
              "    <tr>\n",
              "      <th>0</th>\n",
              "      <td>CWT</td>\n",
              "      <td>Travel Agency</td>\n",
              "      <td>Online</td>\n",
              "      <td>Rental Vehicle Excess Insurance</td>\n",
              "      <td>61</td>\n",
              "      <td>UNITED KINGDOM</td>\n",
              "      <td>19.8</td>\n",
              "      <td>11.88</td>\n",
              "      <td>NaN</td>\n",
              "      <td>29</td>\n",
              "      <td>0</td>\n",
              "    </tr>\n",
              "    <tr>\n",
              "      <th>1</th>\n",
              "      <td>EPX</td>\n",
              "      <td>Travel Agency</td>\n",
              "      <td>Online</td>\n",
              "      <td>Cancellation Plan</td>\n",
              "      <td>93</td>\n",
              "      <td>NEW ZEALAND</td>\n",
              "      <td>63.0</td>\n",
              "      <td>0.00</td>\n",
              "      <td>NaN</td>\n",
              "      <td>36</td>\n",
              "      <td>0</td>\n",
              "    </tr>\n",
              "    <tr>\n",
              "      <th>2</th>\n",
              "      <td>EPX</td>\n",
              "      <td>Travel Agency</td>\n",
              "      <td>Online</td>\n",
              "      <td>2 way Comprehensive Plan</td>\n",
              "      <td>22</td>\n",
              "      <td>UNITED STATES</td>\n",
              "      <td>22.0</td>\n",
              "      <td>0.00</td>\n",
              "      <td>NaN</td>\n",
              "      <td>25</td>\n",
              "      <td>0</td>\n",
              "    </tr>\n",
              "    <tr>\n",
              "      <th>3</th>\n",
              "      <td>C2B</td>\n",
              "      <td>Airlines</td>\n",
              "      <td>Online</td>\n",
              "      <td>Silver Plan</td>\n",
              "      <td>14</td>\n",
              "      <td>SINGAPORE</td>\n",
              "      <td>54.5</td>\n",
              "      <td>13.63</td>\n",
              "      <td>M</td>\n",
              "      <td>24</td>\n",
              "      <td>0</td>\n",
              "    </tr>\n",
              "    <tr>\n",
              "      <th>4</th>\n",
              "      <td>EPX</td>\n",
              "      <td>Travel Agency</td>\n",
              "      <td>Online</td>\n",
              "      <td>Cancellation Plan</td>\n",
              "      <td>90</td>\n",
              "      <td>VIET NAM</td>\n",
              "      <td>10.0</td>\n",
              "      <td>0.00</td>\n",
              "      <td>NaN</td>\n",
              "      <td>23</td>\n",
              "      <td>0</td>\n",
              "    </tr>\n",
              "  </tbody>\n",
              "</table>\n",
              "</div>"
            ],
            "text/plain": [
              "  Agency    Agency Type Distribution Channel  ... Gender  Age Claim\n",
              "0    CWT  Travel Agency               Online  ...    NaN   29     0\n",
              "1    EPX  Travel Agency               Online  ...    NaN   36     0\n",
              "2    EPX  Travel Agency               Online  ...    NaN   25     0\n",
              "3    C2B       Airlines               Online  ...      M   24     0\n",
              "4    EPX  Travel Agency               Online  ...    NaN   23     0\n",
              "\n",
              "[5 rows x 11 columns]"
            ]
          },
          "metadata": {
            "tags": []
          },
          "execution_count": 3
        }
      ]
    },
    {
      "cell_type": "markdown",
      "metadata": {
        "id": "b49JAC55DKeF"
      },
      "source": [
        "# Missing values columns"
      ]
    },
    {
      "cell_type": "code",
      "metadata": {
        "colab": {
          "base_uri": "https://localhost:8080/"
        },
        "id": "QwArdIjscWpU",
        "outputId": "e05d244d-c75e-4c57-8eff-5f58f338c031"
      },
      "source": [
        "insurance_data.isnull().sum()"
      ],
      "execution_count": 4,
      "outputs": [
        {
          "output_type": "execute_result",
          "data": {
            "text/plain": [
              "Agency                      0\n",
              "Agency Type                 0\n",
              "Distribution Channel        0\n",
              "Product Name                0\n",
              "Duration                    0\n",
              "Destination                 0\n",
              "Net Sales                   0\n",
              "Commision (in value)        0\n",
              "Gender                  34361\n",
              "Age                         0\n",
              "Claim                       0\n",
              "dtype: int64"
            ]
          },
          "metadata": {
            "tags": []
          },
          "execution_count": 4
        }
      ]
    },
    {
      "cell_type": "markdown",
      "metadata": {
        "id": "-cTYKI4HDZC9"
      },
      "source": [
        "# Check the duration column skewed or not"
      ]
    },
    {
      "cell_type": "code",
      "metadata": {
        "colab": {
          "base_uri": "https://localhost:8080/",
          "height": 592
        },
        "id": "aP3O_xF0bHsD",
        "outputId": "d15872d5-df32-4f54-e5f9-f4e31a3c34d6"
      },
      "source": [
        "insurance_data['Duration'].value_counts().plot(kind='hist', bins = 50, figsize = (12,10));"
      ],
      "execution_count": 29,
      "outputs": [
        {
          "output_type": "display_data",
          "data": {
            "image/png": "[encoded data removed]",
            "text/plain": [
              "<Figure size 864x720 with 1 Axes>"
            ]
          },
          "metadata": {
            "tags": [],
            "needs_background": "light"
          }
        }
      ]
    },
    {
      "cell_type": "markdown",
      "metadata": {
        "id": "UHOoxNGgDhtp"
      },
      "source": [
        "# Check two columns have negative values"
      ]
    },
    {
      "cell_type": "code",
      "metadata": {
        "colab": {
          "base_uri": "https://localhost:8080/",
          "height": 284
        },
        "id": "WX9sc1QBbf4y",
        "outputId": "65238a97-a558-4ac0-c825-d11141f0f87d"
      },
      "source": [
        "insurance_data.describe()"
      ],
      "execution_count": 6,
      "outputs": [
        {
          "output_type": "execute_result",
          "data": {
            "text/html": [
              "<div>\n",
              "<style scoped>\n",
              "    .dataframe tbody tr th:only-of-type {\n",
              "        vertical-align: middle;\n",
              "    }\n",
              "\n",
              "    .dataframe tbody tr th {\n",
              "        vertical-align: top;\n",
              "    }\n",
              "\n",
              "    .dataframe thead th {\n",
              "        text-align: right;\n",
              "    }\n",
              "</style>\n",
              "<table border=\"1\" class=\"dataframe\">\n",
              "  <thead>\n",
              "    <tr style=\"text-align: right;\">\n",
              "      <th></th>\n",
              "      <th>Duration</th>\n",
              "      <th>Net Sales</th>\n",
              "      <th>Commision (in value)</th>\n",
              "      <th>Age</th>\n",
              "      <th>Claim</th>\n",
              "    </tr>\n",
              "  </thead>\n",
              "  <tbody>\n",
              "    <tr>\n",
              "      <th>count</th>\n",
              "      <td>48260.000000</td>\n",
              "      <td>48260.000000</td>\n",
              "      <td>48260.000000</td>\n",
              "      <td>48260.000000</td>\n",
              "      <td>48260.000000</td>\n",
              "    </tr>\n",
              "    <tr>\n",
              "      <th>mean</th>\n",
              "      <td>49.546602</td>\n",
              "      <td>40.747647</td>\n",
              "      <td>9.811735</td>\n",
              "      <td>39.927269</td>\n",
              "      <td>0.014671</td>\n",
              "    </tr>\n",
              "    <tr>\n",
              "      <th>std</th>\n",
              "      <td>104.828147</td>\n",
              "      <td>48.823217</td>\n",
              "      <td>19.695339</td>\n",
              "      <td>14.027329</td>\n",
              "      <td>0.120231</td>\n",
              "    </tr>\n",
              "    <tr>\n",
              "      <th>min</th>\n",
              "      <td>-2.000000</td>\n",
              "      <td>-389.000000</td>\n",
              "      <td>0.000000</td>\n",
              "      <td>0.000000</td>\n",
              "      <td>0.000000</td>\n",
              "    </tr>\n",
              "    <tr>\n",
              "      <th>25%</th>\n",
              "      <td>9.000000</td>\n",
              "      <td>18.000000</td>\n",
              "      <td>0.000000</td>\n",
              "      <td>35.000000</td>\n",
              "      <td>0.000000</td>\n",
              "    </tr>\n",
              "    <tr>\n",
              "      <th>50%</th>\n",
              "      <td>22.000000</td>\n",
              "      <td>27.000000</td>\n",
              "      <td>0.000000</td>\n",
              "      <td>36.000000</td>\n",
              "      <td>0.000000</td>\n",
              "    </tr>\n",
              "    <tr>\n",
              "      <th>75%</th>\n",
              "      <td>53.000000</td>\n",
              "      <td>48.000000</td>\n",
              "      <td>11.630000</td>\n",
              "      <td>43.000000</td>\n",
              "      <td>0.000000</td>\n",
              "    </tr>\n",
              "    <tr>\n",
              "      <th>max</th>\n",
              "      <td>4881.000000</td>\n",
              "      <td>666.000000</td>\n",
              "      <td>262.760000</td>\n",
              "      <td>118.000000</td>\n",
              "      <td>1.000000</td>\n",
              "    </tr>\n",
              "  </tbody>\n",
              "</table>\n",
              "</div>"
            ],
            "text/plain": [
              "           Duration     Net Sales  ...           Age         Claim\n",
              "count  48260.000000  48260.000000  ...  48260.000000  48260.000000\n",
              "mean      49.546602     40.747647  ...     39.927269      0.014671\n",
              "std      104.828147     48.823217  ...     14.027329      0.120231\n",
              "min       -2.000000   -389.000000  ...      0.000000      0.000000\n",
              "25%        9.000000     18.000000  ...     35.000000      0.000000\n",
              "50%       22.000000     27.000000  ...     36.000000      0.000000\n",
              "75%       53.000000     48.000000  ...     43.000000      0.000000\n",
              "max     4881.000000    666.000000  ...    118.000000      1.000000\n",
              "\n",
              "[8 rows x 5 columns]"
            ]
          },
          "metadata": {
            "tags": []
          },
          "execution_count": 6
        }
      ]
    },
    {
      "cell_type": "code",
      "metadata": {
        "colab": {
          "base_uri": "https://localhost:8080/"
        },
        "id": "NHsRF3X3b8E3",
        "outputId": "03493c6d-99ec-4e9c-d335-b931d02fd372"
      },
      "source": [
        "insurance_data[insurance_data['Duration'] <=0].value_counts().sum()"
      ],
      "execution_count": 7,
      "outputs": [
        {
          "output_type": "execute_result",
          "data": {
            "text/plain": [
              "34"
            ]
          },
          "metadata": {
            "tags": []
          },
          "execution_count": 7
        }
      ]
    },
    {
      "cell_type": "code",
      "metadata": {
        "colab": {
          "base_uri": "https://localhost:8080/"
        },
        "id": "kcAVWJ7TdGHD",
        "outputId": "ba19d87d-7319-4d52-d9c3-35d02a0a71d8"
      },
      "source": [
        "insurance_data[insurance_data['Net Sales'] <=0].value_counts().sum()"
      ],
      "execution_count": 8,
      "outputs": [
        {
          "output_type": "execute_result",
          "data": {
            "text/plain": [
              "316"
            ]
          },
          "metadata": {
            "tags": []
          },
          "execution_count": 8
        }
      ]
    },
    {
      "cell_type": "markdown",
      "metadata": {
        "id": "pvccNBLuDtsW"
      },
      "source": [
        "# Among all customers who have claimed for insurance, most of them are male"
      ]
    },
    {
      "cell_type": "code",
      "metadata": {
        "colab": {
          "base_uri": "https://localhost:8080/"
        },
        "id": "gKTzjqLDdbRk",
        "outputId": "c6fb7447-004e-4363-f294-255661c6355f"
      },
      "source": [
        "\r\n",
        "insurance_data.groupby(by='Gender')['Claim'].value_counts()"
      ],
      "execution_count": 9,
      "outputs": [
        {
          "output_type": "execute_result",
          "data": {
            "text/plain": [
              "Gender  Claim\n",
              "F       0        6507\n",
              "        1         255\n",
              "M       0        6909\n",
              "        1         228\n",
              "Name: Claim, dtype: int64"
            ]
          },
          "metadata": {
            "tags": []
          },
          "execution_count": 9
        }
      ]
    },
    {
      "cell_type": "markdown",
      "metadata": {
        "id": "Q6vSaY9LDyhQ"
      },
      "source": [
        "# Fill the column gender missing values with 'Not Specified'"
      ]
    },
    {
      "cell_type": "code",
      "metadata": {
        "id": "buvCJXwBeSBe"
      },
      "source": [
        "\r\n",
        "insurance_data.fillna(value = 'Not Specified', inplace = True)\r\n"
      ],
      "execution_count": 10,
      "outputs": []
    },
    {
      "cell_type": "markdown",
      "metadata": {
        "id": "i1_YSmy4D3UF"
      },
      "source": [
        "# Drop 'Distribution Channel', 'Destination' and 'Agency Type'."
      ]
    },
    {
      "cell_type": "code",
      "metadata": {
        "id": "xKUHsRPHnqrb"
      },
      "source": [
        "\r\n",
        "insurance_data.drop(['Distribution Channel', 'Destination', 'Agency Type'], axis = 1, inplace = True)"
      ],
      "execution_count": 11,
      "outputs": []
    },
    {
      "cell_type": "markdown",
      "metadata": {
        "id": "SRa4vCXiD7Oo"
      },
      "source": [
        "# Perform one hot encoding for 'Agency','Gender','Product Name' using sklearn"
      ]
    },
    {
      "cell_type": "code",
      "metadata": {
        "colab": {
          "base_uri": "https://localhost:8080/"
        },
        "id": "9WiQIwUnoJVk",
        "outputId": "3d052047-9bd8-47ec-8042-4e86fc734fc1"
      },
      "source": [
        "\r\n",
        "from sklearn.preprocessing import OneHotEncoder\r\n",
        "x = [[0, \"Agency\"], [3, \"Product Name\"], [8, \"Gender\"]]\r\n",
        "y = OneHotEncoder().fit_transform(x).toarray()\r\n",
        "print(y)"
      ],
      "execution_count": 12,
      "outputs": [
        {
          "output_type": "stream",
          "text": [
            "[[1. 0. 0. 1. 0. 0.]\n",
            " [0. 1. 0. 0. 0. 1.]\n",
            " [0. 0. 1. 0. 1. 0.]]\n"
          ],
          "name": "stdout"
        }
      ]
    },
    {
      "cell_type": "code",
      "metadata": {
        "colab": {
          "base_uri": "https://localhost:8080/",
          "height": 282
        },
        "id": "IlsjIVxiqKr2",
        "outputId": "80d256d4-182c-4f2f-b154-4d99be24cd70"
      },
      "source": [
        "cat_cols = ['Agency', 'Product Name', 'Gender']\r\n",
        "insurance_data = pd.get_dummies(insurance_data, columns = cat_cols)\r\n",
        "insurance_data.head()"
      ],
      "execution_count": 13,
      "outputs": [
        {
          "output_type": "execute_result",
          "data": {
            "text/html": [
              "<div>\n",
              "<style scoped>\n",
              "    .dataframe tbody tr th:only-of-type {\n",
              "        vertical-align: middle;\n",
              "    }\n",
              "\n",
              "    .dataframe tbody tr th {\n",
              "        vertical-align: top;\n",
              "    }\n",
              "\n",
              "    .dataframe thead th {\n",
              "        text-align: right;\n",
              "    }\n",
              "</style>\n",
              "<table border=\"1\" class=\"dataframe\">\n",
              "  <thead>\n",
              "    <tr style=\"text-align: right;\">\n",
              "      <th></th>\n",
              "      <th>Duration</th>\n",
              "      <th>Net Sales</th>\n",
              "      <th>Commision (in value)</th>\n",
              "      <th>Age</th>\n",
              "      <th>Claim</th>\n",
              "      <th>Agency_ADM</th>\n",
              "      <th>Agency_ART</th>\n",
              "      <th>Agency_C2B</th>\n",
              "      <th>Agency_CBH</th>\n",
              "      <th>Agency_CCR</th>\n",
              "      <th>Agency_CSR</th>\n",
              "      <th>Agency_CWT</th>\n",
              "      <th>Agency_EPX</th>\n",
              "      <th>Agency_JWT</th>\n",
              "      <th>Agency_JZI</th>\n",
              "      <th>Agency_KML</th>\n",
              "      <th>Agency_LWC</th>\n",
              "      <th>Agency_RAB</th>\n",
              "      <th>Agency_SSI</th>\n",
              "      <th>Agency_TST</th>\n",
              "      <th>Agency_TTW</th>\n",
              "      <th>Product Name_1 way Comprehensive Plan</th>\n",
              "      <th>Product Name_2 way Comprehensive Plan</th>\n",
              "      <th>Product Name_24 Protect</th>\n",
              "      <th>Product Name_Annual Gold Plan</th>\n",
              "      <th>Product Name_Annual Silver Plan</th>\n",
              "      <th>Product Name_Annual Travel Protect Gold</th>\n",
              "      <th>Product Name_Annual Travel Protect Platinum</th>\n",
              "      <th>Product Name_Annual Travel Protect Silver</th>\n",
              "      <th>Product Name_Basic Plan</th>\n",
              "      <th>Product Name_Bronze Plan</th>\n",
              "      <th>Product Name_Cancellation Plan</th>\n",
              "      <th>Product Name_Child Comprehensive Plan</th>\n",
              "      <th>Product Name_Comprehensive Plan</th>\n",
              "      <th>Product Name_Gold Plan</th>\n",
              "      <th>Product Name_Individual Comprehensive Plan</th>\n",
              "      <th>Product Name_Premier Plan</th>\n",
              "      <th>Product Name_Rental Vehicle Excess Insurance</th>\n",
              "      <th>Product Name_Silver Plan</th>\n",
              "      <th>Product Name_Single Trip Travel Protect Gold</th>\n",
              "      <th>Product Name_Single Trip Travel Protect Platinum</th>\n",
              "      <th>Product Name_Single Trip Travel Protect Silver</th>\n",
              "      <th>Product Name_Spouse or Parents Comprehensive Plan</th>\n",
              "      <th>Product Name_Ticket Protector</th>\n",
              "      <th>Product Name_Travel Cruise Protect</th>\n",
              "      <th>Product Name_Travel Cruise Protect Family</th>\n",
              "      <th>Product Name_Value Plan</th>\n",
              "      <th>Gender_F</th>\n",
              "      <th>Gender_M</th>\n",
              "      <th>Gender_Not Specified</th>\n",
              "    </tr>\n",
              "  </thead>\n",
              "  <tbody>\n",
              "    <tr>\n",
              "      <th>0</th>\n",
              "      <td>61</td>\n",
              "      <td>19.8</td>\n",
              "      <td>11.88</td>\n",
              "      <td>29</td>\n",
              "      <td>0</td>\n",
              "      <td>0</td>\n",
              "      <td>0</td>\n",
              "      <td>0</td>\n",
              "      <td>0</td>\n",
              "      <td>0</td>\n",
              "      <td>0</td>\n",
              "      <td>1</td>\n",
              "      <td>0</td>\n",
              "      <td>0</td>\n",
              "      <td>0</td>\n",
              "      <td>0</td>\n",
              "      <td>0</td>\n",
              "      <td>0</td>\n",
              "      <td>0</td>\n",
              "      <td>0</td>\n",
              "      <td>0</td>\n",
              "      <td>0</td>\n",
              "      <td>0</td>\n",
              "      <td>0</td>\n",
              "      <td>0</td>\n",
              "      <td>0</td>\n",
              "      <td>0</td>\n",
              "      <td>0</td>\n",
              "      <td>0</td>\n",
              "      <td>0</td>\n",
              "      <td>0</td>\n",
              "      <td>0</td>\n",
              "      <td>0</td>\n",
              "      <td>0</td>\n",
              "      <td>0</td>\n",
              "      <td>0</td>\n",
              "      <td>0</td>\n",
              "      <td>1</td>\n",
              "      <td>0</td>\n",
              "      <td>0</td>\n",
              "      <td>0</td>\n",
              "      <td>0</td>\n",
              "      <td>0</td>\n",
              "      <td>0</td>\n",
              "      <td>0</td>\n",
              "      <td>0</td>\n",
              "      <td>0</td>\n",
              "      <td>0</td>\n",
              "      <td>0</td>\n",
              "      <td>1</td>\n",
              "    </tr>\n",
              "    <tr>\n",
              "      <th>1</th>\n",
              "      <td>93</td>\n",
              "      <td>63.0</td>\n",
              "      <td>0.00</td>\n",
              "      <td>36</td>\n",
              "      <td>0</td>\n",
              "      <td>0</td>\n",
              "      <td>0</td>\n",
              "      <td>0</td>\n",
              "      <td>0</td>\n",
              "      <td>0</td>\n",
              "      <td>0</td>\n",
              "      <td>0</td>\n",
              "      <td>1</td>\n",
              "      <td>0</td>\n",
              "      <td>0</td>\n",
              "      <td>0</td>\n",
              "      <td>0</td>\n",
              "      <td>0</td>\n",
              "      <td>0</td>\n",
              "      <td>0</td>\n",
              "      <td>0</td>\n",
              "      <td>0</td>\n",
              "      <td>0</td>\n",
              "      <td>0</td>\n",
              "      <td>0</td>\n",
              "      <td>0</td>\n",
              "      <td>0</td>\n",
              "      <td>0</td>\n",
              "      <td>0</td>\n",
              "      <td>0</td>\n",
              "      <td>0</td>\n",
              "      <td>1</td>\n",
              "      <td>0</td>\n",
              "      <td>0</td>\n",
              "      <td>0</td>\n",
              "      <td>0</td>\n",
              "      <td>0</td>\n",
              "      <td>0</td>\n",
              "      <td>0</td>\n",
              "      <td>0</td>\n",
              "      <td>0</td>\n",
              "      <td>0</td>\n",
              "      <td>0</td>\n",
              "      <td>0</td>\n",
              "      <td>0</td>\n",
              "      <td>0</td>\n",
              "      <td>0</td>\n",
              "      <td>0</td>\n",
              "      <td>0</td>\n",
              "      <td>1</td>\n",
              "    </tr>\n",
              "    <tr>\n",
              "      <th>2</th>\n",
              "      <td>22</td>\n",
              "      <td>22.0</td>\n",
              "      <td>0.00</td>\n",
              "      <td>25</td>\n",
              "      <td>0</td>\n",
              "      <td>0</td>\n",
              "      <td>0</td>\n",
              "      <td>0</td>\n",
              "      <td>0</td>\n",
              "      <td>0</td>\n",
              "      <td>0</td>\n",
              "      <td>0</td>\n",
              "      <td>1</td>\n",
              "      <td>0</td>\n",
              "      <td>0</td>\n",
              "      <td>0</td>\n",
              "      <td>0</td>\n",
              "      <td>0</td>\n",
              "      <td>0</td>\n",
              "      <td>0</td>\n",
              "      <td>0</td>\n",
              "      <td>0</td>\n",
              "      <td>1</td>\n",
              "      <td>0</td>\n",
              "      <td>0</td>\n",
              "      <td>0</td>\n",
              "      <td>0</td>\n",
              "      <td>0</td>\n",
              "      <td>0</td>\n",
              "      <td>0</td>\n",
              "      <td>0</td>\n",
              "      <td>0</td>\n",
              "      <td>0</td>\n",
              "      <td>0</td>\n",
              "      <td>0</td>\n",
              "      <td>0</td>\n",
              "      <td>0</td>\n",
              "      <td>0</td>\n",
              "      <td>0</td>\n",
              "      <td>0</td>\n",
              "      <td>0</td>\n",
              "      <td>0</td>\n",
              "      <td>0</td>\n",
              "      <td>0</td>\n",
              "      <td>0</td>\n",
              "      <td>0</td>\n",
              "      <td>0</td>\n",
              "      <td>0</td>\n",
              "      <td>0</td>\n",
              "      <td>1</td>\n",
              "    </tr>\n",
              "    <tr>\n",
              "      <th>3</th>\n",
              "      <td>14</td>\n",
              "      <td>54.5</td>\n",
              "      <td>13.63</td>\n",
              "      <td>24</td>\n",
              "      <td>0</td>\n",
              "      <td>0</td>\n",
              "      <td>0</td>\n",
              "      <td>1</td>\n",
              "      <td>0</td>\n",
              "      <td>0</td>\n",
              "      <td>0</td>\n",
              "      <td>0</td>\n",
              "      <td>0</td>\n",
              "      <td>0</td>\n",
              "      <td>0</td>\n",
              "      <td>0</td>\n",
              "      <td>0</td>\n",
              "      <td>0</td>\n",
              "      <td>0</td>\n",
              "      <td>0</td>\n",
              "      <td>0</td>\n",
              "      <td>0</td>\n",
              "      <td>0</td>\n",
              "      <td>0</td>\n",
              "      <td>0</td>\n",
              "      <td>0</td>\n",
              "      <td>0</td>\n",
              "      <td>0</td>\n",
              "      <td>0</td>\n",
              "      <td>0</td>\n",
              "      <td>0</td>\n",
              "      <td>0</td>\n",
              "      <td>0</td>\n",
              "      <td>0</td>\n",
              "      <td>0</td>\n",
              "      <td>0</td>\n",
              "      <td>0</td>\n",
              "      <td>0</td>\n",
              "      <td>1</td>\n",
              "      <td>0</td>\n",
              "      <td>0</td>\n",
              "      <td>0</td>\n",
              "      <td>0</td>\n",
              "      <td>0</td>\n",
              "      <td>0</td>\n",
              "      <td>0</td>\n",
              "      <td>0</td>\n",
              "      <td>0</td>\n",
              "      <td>1</td>\n",
              "      <td>0</td>\n",
              "    </tr>\n",
              "    <tr>\n",
              "      <th>4</th>\n",
              "      <td>90</td>\n",
              "      <td>10.0</td>\n",
              "      <td>0.00</td>\n",
              "      <td>23</td>\n",
              "      <td>0</td>\n",
              "      <td>0</td>\n",
              "      <td>0</td>\n",
              "      <td>0</td>\n",
              "      <td>0</td>\n",
              "      <td>0</td>\n",
              "      <td>0</td>\n",
              "      <td>0</td>\n",
              "      <td>1</td>\n",
              "      <td>0</td>\n",
              "      <td>0</td>\n",
              "      <td>0</td>\n",
              "      <td>0</td>\n",
              "      <td>0</td>\n",
              "      <td>0</td>\n",
              "      <td>0</td>\n",
              "      <td>0</td>\n",
              "      <td>0</td>\n",
              "      <td>0</td>\n",
              "      <td>0</td>\n",
              "      <td>0</td>\n",
              "      <td>0</td>\n",
              "      <td>0</td>\n",
              "      <td>0</td>\n",
              "      <td>0</td>\n",
              "      <td>0</td>\n",
              "      <td>0</td>\n",
              "      <td>1</td>\n",
              "      <td>0</td>\n",
              "      <td>0</td>\n",
              "      <td>0</td>\n",
              "      <td>0</td>\n",
              "      <td>0</td>\n",
              "      <td>0</td>\n",
              "      <td>0</td>\n",
              "      <td>0</td>\n",
              "      <td>0</td>\n",
              "      <td>0</td>\n",
              "      <td>0</td>\n",
              "      <td>0</td>\n",
              "      <td>0</td>\n",
              "      <td>0</td>\n",
              "      <td>0</td>\n",
              "      <td>0</td>\n",
              "      <td>0</td>\n",
              "      <td>1</td>\n",
              "    </tr>\n",
              "  </tbody>\n",
              "</table>\n",
              "</div>"
            ],
            "text/plain": [
              "   Duration  Net Sales  ...  Gender_M  Gender_Not Specified\n",
              "0        61       19.8  ...         0                     1\n",
              "1        93       63.0  ...         0                     1\n",
              "2        22       22.0  ...         0                     1\n",
              "3        14       54.5  ...         1                     0\n",
              "4        90       10.0  ...         0                     1\n",
              "\n",
              "[5 rows x 50 columns]"
            ]
          },
          "metadata": {
            "tags": []
          },
          "execution_count": 13
        }
      ]
    },
    {
      "cell_type": "markdown",
      "metadata": {
        "id": "ianW1HCQEPJT"
      },
      "source": [
        "# Seperate dependent and independent features"
      ]
    },
    {
      "cell_type": "code",
      "metadata": {
        "id": "1ApQcJcXqiIQ"
      },
      "source": [
        "\r\n",
        "X = insurance_data.drop(['Claim'], axis=1)\r\n",
        "Y = insurance_data.Claim"
      ],
      "execution_count": 14,
      "outputs": []
    },
    {
      "cell_type": "markdown",
      "metadata": {
        "id": "gGPCbJ3sESRS"
      },
      "source": [
        "# Split the data into training and test set with test_size = 0.3 and random_state = 101\r\n"
      ]
    },
    {
      "cell_type": "code",
      "metadata": {
        "id": "mnElaLyWr8Hh"
      },
      "source": [
        "X_train, X_test, Y_train, Y_test = train_test_split(X, Y, test_size=0.3, random_state=101)"
      ],
      "execution_count": 15,
      "outputs": []
    },
    {
      "cell_type": "markdown",
      "metadata": {
        "id": "sVqcanzlEWCj"
      },
      "source": [
        "# As the data has imbalanced classes, use smote to equalize the classes on training set splitted in operation 5. \r\n",
        "\r\n",
        "Use random_state = 25 and sampling_strategy = 1.0 while initializing smote."
      ]
    },
    {
      "cell_type": "code",
      "metadata": {
        "id": "FH0jHlW6sM6h"
      },
      "source": [
        "from imblearn.over_sampling import SMOTE\r\n",
        "smote = SMOTE(random_state = 25, sampling_strategy = 1.0)\r\n",
        "X_train, Y_train = smote.fit_sample(X_train, Y_train)\r\n",
        "X_test, Y_test = smote.fit_sample(X_test, Y_test)"
      ],
      "execution_count": 16,
      "outputs": []
    },
    {
      "cell_type": "markdown",
      "metadata": {
        "id": "GHt_MKjwEdhg"
      },
      "source": [
        "# Build a Logistic Regression model\r\n"
      ]
    },
    {
      "cell_type": "code",
      "metadata": {
        "id": "AVAIuv3Ms0pQ",
        "colab": {
          "base_uri": "https://localhost:8080/"
        },
        "outputId": "7422f495-ed1e-45d8-8a0b-86dc3bbb1e9b"
      },
      "source": [
        "from sklearn.linear_model import LogisticRegression\r\n",
        "from sklearn.metrics import accuracy_score, f1_score\r\n",
        "model = LogisticRegression()\r\n",
        "\r\n",
        "logistic_model = model.fit(X_train, Y_train)\r\n",
        "\r\n",
        "predictions_LM = logistic_model.predict(X_test)\r\n",
        "\r\n",
        "print('Accuracy score in  Logistic Regression')\r\n",
        "\r\n",
        "print(accuracy_score(Y_test,predictions_LM))\r\n",
        "print('f1_score in  Logistic Regression')\r\n",
        "print(f1_score(Y_test,predictions_LM))"
      ],
      "execution_count": 17,
      "outputs": [
        {
          "output_type": "stream",
          "text": [
            "Accuracy score in  Logistic Regression\n",
            "0.7662605895120073\n",
            "f1_score in  Logistic Regression\n",
            "0.7510718413302017\n"
          ],
          "name": "stdout"
        }
      ]
    },
    {
      "cell_type": "code",
      "metadata": {
        "id": "VbqkJLlLtsaB",
        "colab": {
          "base_uri": "https://localhost:8080/"
        },
        "outputId": "bd75a963-0612-45c2-ceaf-e479f309c8ed"
      },
      "source": [
        "pred = logistic_model.predict(X_train)\r\n",
        "print(accuracy_score(Y_train, pred))\r\n",
        "print(f1_score(Y_train, pred))"
      ],
      "execution_count": 18,
      "outputs": [
        {
          "output_type": "stream",
          "text": [
            "0.7657128257537047\n",
            "0.7509306747191998\n"
          ],
          "name": "stdout"
        }
      ]
    },
    {
      "cell_type": "markdown",
      "metadata": {
        "id": "GA9t5IdYEhwq"
      },
      "source": [
        "# Decision tree classifier\r\n"
      ]
    },
    {
      "cell_type": "code",
      "metadata": {
        "id": "ZjeZOm8SuUeF",
        "colab": {
          "base_uri": "https://localhost:8080/"
        },
        "outputId": "94ef994f-edf9-4551-f159-786e1d3fcca0"
      },
      "source": [
        "from sklearn.tree import DecisionTreeClassifier\r\n",
        "dtree = DecisionTreeClassifier(random_state= 1)\r\n",
        "dtree.fit(X_train,Y_train)"
      ],
      "execution_count": 19,
      "outputs": [
        {
          "output_type": "execute_result",
          "data": {
            "text/plain": [
              "DecisionTreeClassifier(ccp_alpha=0.0, class_weight=None, criterion='gini',\n",
              "                       max_depth=None, max_features=None, max_leaf_nodes=None,\n",
              "                       min_impurity_decrease=0.0, min_impurity_split=None,\n",
              "                       min_samples_leaf=1, min_samples_split=2,\n",
              "                       min_weight_fraction_leaf=0.0, presort='deprecated',\n",
              "                       random_state=1, splitter='best')"
            ]
          },
          "metadata": {
            "tags": []
          },
          "execution_count": 19
        }
      ]
    },
    {
      "cell_type": "code",
      "metadata": {
        "id": "tfFFy0XGvhv0",
        "colab": {
          "base_uri": "https://localhost:8080/"
        },
        "outputId": "68ebd98e-6651-4d14-fc07-1e54cf6cc508"
      },
      "source": [
        "pred_dtree = dtree.predict(X_test)\r\n",
        "print(f1_score(Y_test,pred_dtree))\r\n",
        "print(accuracy_score(Y_test, pred_dtree))"
      ],
      "execution_count": 20,
      "outputs": [
        {
          "output_type": "stream",
          "text": [
            "0.8572991132466111\n",
            "0.8721207029335574\n"
          ],
          "name": "stdout"
        }
      ]
    },
    {
      "cell_type": "code",
      "metadata": {
        "id": "nlPE420SvvC4",
        "colab": {
          "base_uri": "https://localhost:8080/"
        },
        "outputId": "671587ee-d518-42f0-f4ea-4cacfac6a90c"
      },
      "source": [
        "# on training dataset\r\n",
        "pred_dtree = dtree.predict(X_train)\r\n",
        "print(f1_score(Y_train,pred_dtree))\r\n",
        "print(accuracy_score(Y_train, pred_dtree))"
      ],
      "execution_count": 21,
      "outputs": [
        {
          "output_type": "stream",
          "text": [
            "0.998675855427488\n",
            "0.9986774474736241\n"
          ],
          "name": "stdout"
        }
      ]
    },
    {
      "cell_type": "markdown",
      "metadata": {
        "id": "--iVKvHAEoZo"
      },
      "source": [
        "# Random forest"
      ]
    },
    {
      "cell_type": "code",
      "metadata": {
        "id": "CqLW8k7DwGuG",
        "colab": {
          "base_uri": "https://localhost:8080/"
        },
        "outputId": "02f1bc87-2726-43c8-a378-b27abcacdb26"
      },
      "source": [
        "from sklearn.ensemble import RandomForestClassifier\r\n",
        "rfc = RandomForestClassifier(random_state = 1)\r\n",
        "rfc.fit(X_train, Y_train)"
      ],
      "execution_count": 22,
      "outputs": [
        {
          "output_type": "execute_result",
          "data": {
            "text/plain": [
              "RandomForestClassifier(bootstrap=True, ccp_alpha=0.0, class_weight=None,\n",
              "                       criterion='gini', max_depth=None, max_features='auto',\n",
              "                       max_leaf_nodes=None, max_samples=None,\n",
              "                       min_impurity_decrease=0.0, min_impurity_split=None,\n",
              "                       min_samples_leaf=1, min_samples_split=2,\n",
              "                       min_weight_fraction_leaf=0.0, n_estimators=100,\n",
              "                       n_jobs=None, oob_score=False, random_state=1, verbose=0,\n",
              "                       warm_start=False)"
            ]
          },
          "metadata": {
            "tags": []
          },
          "execution_count": 22
        }
      ]
    },
    {
      "cell_type": "code",
      "metadata": {
        "id": "3FdFLlt3woYn",
        "colab": {
          "base_uri": "https://localhost:8080/"
        },
        "outputId": "b34d06e8-fb27-4277-f766-9576393cd535"
      },
      "source": [
        "pred_rfc = rfc.predict(X_test)\r\n",
        "print(f1_score(Y_test, pred_rfc))\r\n",
        "print(accuracy_score(Y_test, pred_rfc))"
      ],
      "execution_count": 23,
      "outputs": [
        {
          "output_type": "stream",
          "text": [
            "0.880367979591048\n",
            "0.8916544143387244\n"
          ],
          "name": "stdout"
        }
      ]
    },
    {
      "cell_type": "markdown",
      "metadata": {
        "id": "-42Sp7uCEyn7"
      },
      "source": [
        "# Grid search cv for random forest classifier\r\n"
      ]
    },
    {
      "cell_type": "code",
      "metadata": {
        "id": "7Z_9_4Ciw2Ia"
      },
      "source": [
        "from sklearn.model_selection import GridSearchCV\r\n",
        "from sklearn.ensemble import RandomForestClassifier\r\n",
        "rfc = RandomForestClassifier(random_state= 1)\r\n"
      ],
      "execution_count": 48,
      "outputs": []
    },
    {
      "cell_type": "code",
      "metadata": {
        "id": "Euigomhr2cH_"
      },
      "source": [
        "param_gridsearch1 = {'bootstrap': [True],\r\n",
        "'max_depth': [10, 20],\r\n",
        "'min_samples_leaf': [3, 4],\r\n",
        "'min_samples_split': [4, 6],\r\n",
        "'n_estimators': [100, 200]}"
      ],
      "execution_count": 49,
      "outputs": []
    },
    {
      "cell_type": "code",
      "metadata": {
        "id": "AQsn-Yr6zuCL",
        "colab": {
          "base_uri": "https://localhost:8080/"
        },
        "outputId": "e904ffc9-a81c-4b6f-d632-52b041c27964"
      },
      "source": [
        "gs = GridSearchCV(rfc, param_grid=param_gridsearch1, cv = 3, n_jobs = -1, verbose = 2)\r\n",
        "gs.fit(X_train, Y_train)"
      ],
      "execution_count": 50,
      "outputs": [
        {
          "output_type": "stream",
          "text": [
            "Fitting 3 folds for each of 16 candidates, totalling 48 fits\n"
          ],
          "name": "stdout"
        },
        {
          "output_type": "stream",
          "text": [
            "[Parallel(n_jobs=-1)]: Using backend LokyBackend with 2 concurrent workers.\n",
            "[Parallel(n_jobs=-1)]: Done  37 tasks      | elapsed:  3.0min\n",
            "[Parallel(n_jobs=-1)]: Done  48 out of  48 | elapsed:  4.0min finished\n"
          ],
          "name": "stderr"
        },
        {
          "output_type": "execute_result",
          "data": {
            "text/plain": [
              "GridSearchCV(cv=3, error_score=nan,\n",
              "             estimator=RandomForestClassifier(bootstrap=True, ccp_alpha=0.0,\n",
              "                                              class_weight=None,\n",
              "                                              criterion='gini', max_depth=None,\n",
              "                                              max_features='auto',\n",
              "                                              max_leaf_nodes=None,\n",
              "                                              max_samples=None,\n",
              "                                              min_impurity_decrease=0.0,\n",
              "                                              min_impurity_split=None,\n",
              "                                              min_samples_leaf=1,\n",
              "                                              min_samples_split=2,\n",
              "                                              min_weight_fraction_leaf=0.0,\n",
              "                                              n_estimators=100, n_jobs=None,\n",
              "                                              oob_score=False, random_state=1,\n",
              "                                              verbose=0, warm_start=False),\n",
              "             iid='deprecated', n_jobs=-1,\n",
              "             param_grid={'bootstrap': [True], 'max_depth': [10, 20],\n",
              "                         'min_samples_leaf': [3, 4],\n",
              "                         'min_samples_split': [4, 6],\n",
              "                         'n_estimators': [100, 200]},\n",
              "             pre_dispatch='2*n_jobs', refit=True, return_train_score=False,\n",
              "             scoring=None, verbose=2)"
            ]
          },
          "metadata": {
            "tags": []
          },
          "execution_count": 50
        }
      ]
    },
    {
      "cell_type": "code",
      "metadata": {
        "id": "9NvYevtQ3LRm",
        "colab": {
          "base_uri": "https://localhost:8080/"
        },
        "outputId": "57226c05-7b1c-4a31-9453-496f0c76df8a"
      },
      "source": [
        "pred = gs.predict(X_test)\r\n",
        "f1_score(Y_test, pred)"
      ],
      "execution_count": 51,
      "outputs": [
        {
          "output_type": "execute_result",
          "data": {
            "text/plain": [
              "0.8894794790994343"
            ]
          },
          "metadata": {
            "tags": []
          },
          "execution_count": 51
        }
      ]
    },
    {
      "cell_type": "code",
      "metadata": {
        "colab": {
          "base_uri": "https://localhost:8080/"
        },
        "id": "2Z3pJov97mip",
        "outputId": "5c29a1bc-5fa4-4951-f9bd-49ebe0b749a4"
      },
      "source": [
        "gs.best_params_"
      ],
      "execution_count": 52,
      "outputs": [
        {
          "output_type": "execute_result",
          "data": {
            "text/plain": [
              "{'bootstrap': True,\n",
              " 'max_depth': 20,\n",
              " 'min_samples_leaf': 3,\n",
              " 'min_samples_split': 4,\n",
              " 'n_estimators': 200}"
            ]
          },
          "metadata": {
            "tags": []
          },
          "execution_count": 52
        }
      ]
    },
    {
      "cell_type": "markdown",
      "metadata": {
        "id": "FSoz3EHAE4mc"
      },
      "source": [
        "# Grid search cv for decision tree classifier\r\n"
      ]
    },
    {
      "cell_type": "code",
      "metadata": {
        "id": "LXc-E0Ae39it"
      },
      "source": [
        "from sklearn.model_selection import GridSearchCV\r\n",
        "from sklearn.tree import DecisionTreeClassifier\r\n",
        "dtree = DecisionTreeClassifier(random_state= 1)\r\n"
      ],
      "execution_count": 41,
      "outputs": []
    },
    {
      "cell_type": "code",
      "metadata": {
        "id": "f80Hp4NJ563R"
      },
      "source": [
        "param_gridsearch2 = {'max_leaf_nodes': [5, 10, 15, 20],\r\n",
        "'min_samples_split': [4, 6, 8, 10]}"
      ],
      "execution_count": 42,
      "outputs": []
    },
    {
      "cell_type": "code",
      "metadata": {
        "colab": {
          "base_uri": "https://localhost:8080/"
        },
        "id": "2JX27FZO6Jqx",
        "outputId": "95be04f8-2e4a-4af4-9fad-baffd29b1a12"
      },
      "source": [
        "gs2 = GridSearchCV(dtree, param_grid=param_gridsearch2, cv = 3, n_jobs = -1, verbose = 2)\r\n",
        "gs2.fit(X_train, Y_train)"
      ],
      "execution_count": 43,
      "outputs": [
        {
          "output_type": "stream",
          "text": [
            "Fitting 3 folds for each of 16 candidates, totalling 48 fits\n"
          ],
          "name": "stdout"
        },
        {
          "output_type": "stream",
          "text": [
            "[Parallel(n_jobs=-1)]: Using backend LokyBackend with 2 concurrent workers.\n",
            "[Parallel(n_jobs=-1)]: Done  37 tasks      | elapsed:    6.8s\n",
            "[Parallel(n_jobs=-1)]: Done  48 out of  48 | elapsed:    8.8s finished\n"
          ],
          "name": "stderr"
        },
        {
          "output_type": "execute_result",
          "data": {
            "text/plain": [
              "GridSearchCV(cv=3, error_score=nan,\n",
              "             estimator=DecisionTreeClassifier(ccp_alpha=0.0, class_weight=None,\n",
              "                                              criterion='gini', max_depth=None,\n",
              "                                              max_features=None,\n",
              "                                              max_leaf_nodes=None,\n",
              "                                              min_impurity_decrease=0.0,\n",
              "                                              min_impurity_split=None,\n",
              "                                              min_samples_leaf=1,\n",
              "                                              min_samples_split=2,\n",
              "                                              min_weight_fraction_leaf=0.0,\n",
              "                                              presort='deprecated',\n",
              "                                              random_state=1, splitter='best'),\n",
              "             iid='deprecated', n_jobs=-1,\n",
              "             param_grid={'max_leaf_nodes': [5, 10, 15, 20],\n",
              "                         'min_samples_split': [4, 6, 8, 10]},\n",
              "             pre_dispatch='2*n_jobs', refit=True, return_train_score=False,\n",
              "             scoring=None, verbose=2)"
            ]
          },
          "metadata": {
            "tags": []
          },
          "execution_count": 43
        }
      ]
    },
    {
      "cell_type": "code",
      "metadata": {
        "colab": {
          "base_uri": "https://localhost:8080/"
        },
        "id": "En0pr8Kz6V-l",
        "outputId": "d14b66f3-8184-4b01-f568-c2787d2fe158"
      },
      "source": [
        "pred1 = gs2.predict(X_test)\r\n",
        "f1_score(Y_test, pred1)"
      ],
      "execution_count": 45,
      "outputs": [
        {
          "output_type": "execute_result",
          "data": {
            "text/plain": [
              "0.8143026471750295"
            ]
          },
          "metadata": {
            "tags": []
          },
          "execution_count": 45
        }
      ]
    },
    {
      "cell_type": "code",
      "metadata": {
        "colab": {
          "base_uri": "https://localhost:8080/"
        },
        "id": "ZdWq54Uk6mo4",
        "outputId": "d775f9bd-4d5d-4e1f-d836-65299d58f4d4"
      },
      "source": [
        "gs2.best_params_"
      ],
      "execution_count": 55,
      "outputs": [
        {
          "output_type": "execute_result",
          "data": {
            "text/plain": [
              "{'max_leaf_nodes': 20, 'min_samples_split': 4}"
            ]
          },
          "metadata": {
            "tags": []
          },
          "execution_count": 55
        }
      ]
    },
    {
      "cell_type": "markdown",
      "metadata": {
        "id": "lMY6X-vNAb0D"
      },
      "source": [
        "# Perform feature selection using RFE\r\n",
        "\r\n",
        "*Initialize random forest model with random_state = 1\r\n",
        "\r\n",
        "*Initialize RFE with step = 1\r\n",
        "\r\n",
        "*Fit the data to RFE\r\n",
        "\r\n",
        "*Build the random forest model with: random_state=1 using the selected features by rfe"
      ]
    },
    {
      "cell_type": "code",
      "metadata": {
        "colab": {
          "base_uri": "https://localhost:8080/"
        },
        "id": "NGDae6397_cv",
        "outputId": "208e2cc4-0ca8-4bd0-8a5a-9fba281a0dab"
      },
      "source": [
        "from sklearn.feature_selection import RFE #importing RFE class from sklearn library\r\n",
        "# Recursive Feature Elimination (RFE) = As the name suggests, Recursive Feature Elimination works by recursively(repeatedly) removing features\r\n",
        "# and building a model on the features that remain.\r\n",
        "rfe = RFE(random_state = 1, estimator= rfc , step = 1) \r\n",
        "# step = 1: removes one feature at a time and then builds a model on the remaining features\r\n",
        "# It uses the model accuracy to identify which features (and combination of features) contribute the most to predicting the target variable.\r\n",
        "# we can even provide no. of features as an argument \r\n",
        "\r\n",
        "# Fit the function for ranking the features\r\n",
        "fit = rfe.fit(X_train, Y_train)\r\n",
        "\r\n",
        "print(\"Num Features: %d\" % fit.n_feature)\r\n",
        "print(\"Selected Features: %s\" % fit.support_)\r\n",
        "print(\"Feature Ranking: %s\" % fit.ranking_)"
      ],
      "execution_count": 54,
      "outputs": [
        {
          "output_type": "stream",
          "text": [
            "Num Features: 24\n",
            "Selected Features: [ True  True  True  True False False  True False False False  True  True\n",
            " False  True False  True False False False False  True  True False False\n",
            "  True False False False  True  True  True False False  True False False\n",
            "  True  True  True False False False  True False False  True  True  True\n",
            "  True]\n",
            "Feature Ranking: [ 1  1  1  1 22 13  1 25 16 24  1  1  6  1  9  1 17  4  5 14  1  1 19 11\n",
            "  1  3 20 12  1  1  1 23  7  1 18 15  1  1  1  2  8 21  1 10 26  1  1  1\n",
            "  1]\n"
          ],
          "name": "stdout"
        }
      ]
    },
    {
      "cell_type": "code",
      "metadata": {
        "id": "3KpJ1g_g_Ndx"
      },
      "source": [
        "# Transforming the data\r\n",
        "X_train_rfe = rfe.transform(X_train)\r\n",
        "X_test_rfe = rfe.transform(X_test)\r\n",
        "\r\n",
        "# Fitting our baseline model with the transformed data\r\n",
        "lr_rfe_model = rfc.fit(X_train_rfe, Y_train)"
      ],
      "execution_count": 56,
      "outputs": []
    },
    {
      "cell_type": "code",
      "metadata": {
        "colab": {
          "base_uri": "https://localhost:8080/"
        },
        "id": "f3ANixBoCcMK",
        "outputId": "ff6ea51c-fd9f-4f8b-9c0a-39252ccbb4dd"
      },
      "source": [
        "\r\n",
        "# making predictions and evaluating the model\r\n",
        "Y_pred_rfe = rfc.predict(X_test_rfe)\r\n",
        "\r\n",
        "rfe_ac = accuracy_score(Y_test, Y_pred_rfe)\r\n",
        "rfe_fscore = f1_score(Y_test ,Y_pred_rfe)\r\n",
        "\r\n",
        "print(\"RFE Model Accuracy:\", rfe_ac)\r\n",
        "print(\"RFE Model F1 Score:\", rfe_fscore)"
      ],
      "execution_count": 57,
      "outputs": [
        {
          "output_type": "stream",
          "text": [
            "RFE Model Accuracy: 0.8917944409437794\n",
            "RFE Model F1 Score: 0.8805318285471341\n"
          ],
          "name": "stdout"
        }
      ]
    },
    {
      "cell_type": "code",
      "metadata": {
        "id": "FbA1jz3OC3ea"
      },
      "source": [
        ""
      ],
      "execution_count": null,
      "outputs": []
    }
  ]
}